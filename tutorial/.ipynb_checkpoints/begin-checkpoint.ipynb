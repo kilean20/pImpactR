{
 "cells": [
  {
   "cell_type": "markdown",
   "metadata": {},
   "source": [
    "# Tutorial on pIMPACT (ver. Feb.2019)\n",
    "\n",
    "This is a short introductive tutorial for [pIMPACT](https://github.com/kilean20/pImpactR). pImpact is python wrapper for [Impact](http://blast.lbl.gov/blast-codes-impact/) I/O and **pre/post-process**.\n",
    "\n",
    "We provide description of overall features. However, in order to illustrate the ues of this package efficiently we choose to provide **examples/templates** instead of detailed information of every routines.\n",
    "\n",
    "Actual package mame is **pImpactR** where R stands for ring. This is specifically targeted a version of Impact customized for IOTA ring study. Detailed information of the additions on Impact for IOTA simulation can be found in [doc](https://docs.google.com/presentation/d/e/2PACX-1vQj_rRf26ULJcoUS5NRRcpcf9KY9NFqIDP6JlALKW2_Gk7QT7J1xeaDOlUQQCaGpsp3Gx3vgX9f60Uo/pub?start=false&loop=false&delayms=3000) and [example](../examples/IOTA/ImpactR.ipynb)"
   ]
  },
  {
   "cell_type": "markdown",
   "metadata": {
    "collapsed": true
   },
   "source": [
    "## Structure\n",
    "\n",
    "pImpact is composed of following modules. Few objects typical to each module are also listed. Click the link for the corresponding example\n",
    "\n",
    "- **impactIO** : main module for impact wrapper\n",
    " - [readInputFile(),writeInputFile()](../examples/impactIO.ipynb)\n",
    " - [readParticleData()](../examples/impactIO.ipynb),writeParticleData()\n",
    " \n",
    " \n",
    "- **data**  : inquire input type string available for various objects in impactIO\n",
    " - elem_type, fld_solver, distribution_type\n",
    " \n",
    " \n",
    "- **util**\n",
    " - [naff()](../examples/naff/naff.ipynb)  unwrapped fortran version is available in the package folder [naff.f90](../naff.f90)\n",
    " - KtoB1()\n",
    " \n",
    " \n",
    "- **opt**\n",
    " - [differential_evolution()](../examples/optimization/Optimization_phase_advance.ipynb)\n",
    " \n",
    " \n",
    "- **plot**\n",
    " - [poincare()](../examples/impactIO.ipynb)"
   ]
  },
  {
   "cell_type": "markdown",
   "metadata": {},
   "source": [
    "## Dependency\n",
    "\n",
    "- Impact executable\n",
    " - Put the impact executable 'xmain' in $PATH. The impact executable 'xmain' should take impact input file 'test.in'\n",
    "- Numpy\n",
    "- Scipy (optional) for opt module\n",
    "- Matplotlib (optional) for plot module"
   ]
  },
  {
   "cell_type": "markdown",
   "metadata": {},
   "source": [
    "## Installation\n",
    "\n",
    "- download package from [https://github.com/kilean20/pImpactR.git](https://github.com/kilean20/pImpactR.git)\n",
    "- run 'setup.py' in the package\n",
    "\n",
    "\n",
    "simple installation command in one line:\n",
    "\n",
    "\n",
    "> git clone https://github.com/kilean20/pImpactR.git; cd pImpactR; pip install -e ."
   ]
  }
 ],
 "metadata": {
  "anaconda-cloud": {},
  "kernelspec": {
   "display_name": "Python 3",
   "language": "python",
   "name": "python3"
  },
  "language_info": {
   "codemirror_mode": {
    "name": "ipython",
    "version": 3
   },
   "file_extension": ".py",
   "mimetype": "text/x-python",
   "name": "python",
   "nbconvert_exporter": "python",
   "pygments_lexer": "ipython3",
   "version": "3.6.5"
  }
 },
 "nbformat": 4,
 "nbformat_minor": 1
}
