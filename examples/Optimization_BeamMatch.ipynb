{
 "cells": [
  {
   "cell_type": "code",
   "execution_count": null,
   "metadata": {},
   "outputs": [],
   "source": [
    "# this example is just an illustration of parallel optimization with IMPACT \n",
    "import os\n",
    "import numpy as np\n",
    "import pickle\n",
    "import shutil \n",
    "import pImpactR as pm"
   ]
  },
  {
   "cell_type": "markdown",
   "metadata": {},
   "source": [
    "##### read FODO lattice"
   ]
  },
  {
   "cell_type": "code",
   "execution_count": null,
   "metadata": {},
   "outputs": [],
   "source": [
    "beam, lattice = pm.readInputFile('FODO.in')\n",
    "\n",
    "beam.kinetic_energy=3.0e6\n",
    "beam.n_particles=500\n",
    "beam.current=0.0\n",
    "\n",
    "#if space-charge considered uncomment followings\n",
    "#beam['n_particles']=3000\n",
    "#beam['current']=0.04"
   ]
  },
  {
   "cell_type": "markdown",
   "metadata": {},
   "source": [
    "##### adjust integrations steps for each element"
   ]
  },
  {
   "cell_type": "code",
   "execution_count": null,
   "metadata": {},
   "outputs": [],
   "source": [
    "QuadIndex=[]\n",
    "QuadStrength=[]\n",
    "lattice.insert(0,pm.getElem('loop'))\n",
    "for i in range(len(lattice)):\n",
    "    if lattice[i]['type']=='quad':\n",
    "        QuadIndex.append(i)\n",
    "        QuadStrength.append(lattice[i]['B1'])\n",
    "        lattice[i]['n_sckick']=int(np.ceil(lattice[i]['length']*40))\n",
    "    if lattice[i]['type']=='drift':  \n",
    "        lattice[i]['n_sckick']=int(np.ceil(lattice[i]['length']*1))\n",
    "        #if space-charge considered uncomment followign\n",
    "        #lattice[i]['n_sckick']=int(np.ceil(lattice[i]['length']*7))\n",
    "        \n"
   ]
  },
  {
   "cell_type": "markdown",
   "metadata": {},
   "source": [
    "##### define objective function"
   ]
  },
  {
   "cell_type": "code",
   "execution_count": null,
   "metadata": {},
   "outputs": [],
   "source": [
    "mkdir origin"
   ]
  },
  {
   "cell_type": "code",
   "execution_count": null,
   "metadata": {},
   "outputs": [],
   "source": [
    "#%%\n",
    "def objFunc(arg): \n",
    "    for i in QuadIndex:\n",
    "        lattice[i]['B1']=(-1)**int(i/2)*arg[0]\n",
    "    beam.distribution.betx = arg[1]\n",
    "    beam.distribution.bety = arg[1]\n",
    "    beam.distribution.alfx = -arg[2]\n",
    "    beam.distribution.alfy = arg[2]\n",
    "    \n",
    "    target = pm.opt.id_generator()  # generage random directory name\n",
    "    while os.path.exists(target):  \n",
    "        target = pm.opt.id_generator()\n",
    "    shutil.copytree('origin', target) # copy working directory to random directroy\n",
    "    # In this example './origin/' is empty\n",
    "    \n",
    "    os.chdir(target) # cd to the randome directory and\n",
    "    \n",
    "    pm.writeInputFile(beam,lattice)\n",
    "    pm.run() # run impact there\n",
    "    \n",
    "    X=pm.readRMS('x')\n",
    "    Y=pm.readRMS('y')\n",
    "    twissX = pm.readOpticsAt(-1,'x')\n",
    "    twissY = pm.readOpticsAt(-1,'y')\n",
    "    \n",
    "    # optimize average rms size to 1.5 mm\n",
    "    obj1 = np.sum( (np.array(X.rms_x)*1E3-1.5)**2 + (np.array(X.rms_x)*1E3-1.5)**2 )\n",
    "    # periodic condition\n",
    "    obj2 = (twissX.betx - arg[1])**4 + (5.0*twissX.alfx + 5.0*arg[2])**4 +\\\n",
    "           (twissY.bety - arg[1])**4 + (5.0*twissY.alfy - 5.0*arg[2])**4\n",
    "    os.chdir('..')\n",
    "    shutil.rmtree(target)\n",
    "    return obj1 + 10*obj2"
   ]
  },
  {
   "cell_type": "code",
   "execution_count": null,
   "metadata": {
    "scrolled": true
   },
   "outputs": [],
   "source": [
    "#%% run optim\n",
    "bounds = [(7.0,14.0), (6.0,12.0), (0.9,2.1)]\n",
    "result=pm.opt.differential_evolution(objFunc, bounds, ncore=8, popsize=8, \n",
    "                                     disp=True, polish=False, maxtime=60*1) \n",
    "                                     # stop running at maximum 1 min"
   ]
  },
  {
   "cell_type": "code",
   "execution_count": null,
   "metadata": {},
   "outputs": [],
   "source": [
    "# save current population of optimization \n",
    "with open('result.data','wb') as fp:\n",
    "    pickle.dump(result,fp)\n",
    "  \n",
    "#%% resume optimization until converge. \n",
    "# Ability to resume optimization is very useful especially for NERSC debug mode\n",
    "while True:\n",
    "    with open('result.data','rb') as fp:\n",
    "        previous_result = pickle.load(fp)\n",
    "    result = pm.opt.differential_evolution(objFunc, bounds, ncore=8, \n",
    "                                           prev_result=previous_result, \n",
    "                                           disp=True, polish=False, maxtime=60*1)\n",
    "    if hasattr(result,'x'): \n",
    "        break                            \n",
    "\n",
    "\n",
    "#%%\n",
    "# print optimization result and save in directory ./print_result\n",
    "def print_result(arg): \n",
    "    for i in QuadIndex:\n",
    "        lattice[i+1]['B1']=(-1)**int(i/2)*arg[0]\n",
    "    beam.distribution.betx = arg[1]\n",
    "    beam.distribution.bety = arg[1]\n",
    "    beam.distribution.alfx = -arg[2]\n",
    "    beam.distribution.alfy = arg[2]\n",
    "    \n",
    "    target = pm.opt.id_generator()  # generage random directory name\n",
    "    while os.path.exists(target):  \n",
    "        target = pm.opt.id_generator()\n",
    "    shutil.copytree('origin', target) # copy working directory to random directroy\n",
    "    # In this example './origin/' is empty\n",
    "    \n",
    "    os.chdir(target) # cd to the randome directory and\n",
    "    \n",
    "    pm.writeInputFile(beam,lattice)\n",
    "    pm.run() # run impact there\n",
    "    \n",
    "    X=pm.readRMS('x')\n",
    "    Y=pm.readRMS('y')\n",
    "    twissX = pm.readOpticsAt(-1,'x')\n",
    "    twissY = pm.readOpticsAt(-1,'y')\n",
    "    \n",
    "    pm.plot.rms()\n",
    "    os.chdir('..')\n",
    "\n",
    "    return twissX,twissY\n",
    "\n",
    "print(print_result(result.x))"
   ]
  },
  {
   "cell_type": "code",
   "execution_count": null,
   "metadata": {},
   "outputs": [],
   "source": [
    "rm -f origin"
   ]
  }
 ],
 "metadata": {
  "kernelspec": {
   "display_name": "Python 3",
   "language": "python",
   "name": "python3"
  },
  "language_info": {
   "codemirror_mode": {
    "name": "ipython",
    "version": 3
   },
   "file_extension": ".py",
   "mimetype": "text/x-python",
   "name": "python",
   "nbconvert_exporter": "python",
   "pygments_lexer": "ipython3",
   "version": "3.6.5"
  }
 },
 "nbformat": 4,
 "nbformat_minor": 2
}
