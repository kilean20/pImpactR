{
 "cells": [
  {
   "cell_type": "code",
   "execution_count": null,
   "metadata": {},
   "outputs": [],
   "source": [
    "# this example is just an illustration of parallel optimization with IMPACT \n",
    "import os\n",
    "import numpy as np\n",
    "import pickle\n",
    "import shutil \n",
    "import pImpactR as pm\n",
    "import matplotlib.pyplot as plt\n",
    "from copy import deepcopy as copy"
   ]
  },
  {
   "cell_type": "markdown",
   "metadata": {},
   "source": [
    "##### read FODO lattice"
   ]
  },
  {
   "cell_type": "code",
   "execution_count": null,
   "metadata": {},
   "outputs": [],
   "source": [
    "beam, lattice = pm.readInputFile('FODO.in')\n",
    "\n",
    "beam.kinetic_energy=3.0e6\n",
    "beam.n_particles=1000\n",
    "beam.current=0.0\n",
    "\n",
    "#if space-charge considered uncomment followings\n",
    "#beam['n_particles']=3000\n",
    "#beam['current']=0.04"
   ]
  },
  {
   "cell_type": "markdown",
   "metadata": {},
   "source": [
    "##### adjust integrations steps for each element"
   ]
  },
  {
   "cell_type": "code",
   "execution_count": null,
   "metadata": {},
   "outputs": [],
   "source": [
    "QuadIndex=[]\n",
    "QuadStrength=[]\n",
    "lattice.insert(0,pm.getElem('loop'))\n",
    "for i in range(len(lattice)):\n",
    "    if lattice[i]['type']=='quad':\n",
    "        QuadIndex.append(i)\n",
    "        QuadStrength.append(lattice[i]['Kx'])\n",
    "        lattice[i]['n_sckick']=int(np.ceil(lattice[i]['length']*40))\n",
    "    if lattice[i]['type']=='drift':  \n",
    "        lattice[i]['n_sckick']=int(np.ceil(lattice[i]['length']*1))\n",
    "        #if space-charge considered uncomment followign\n",
    "        #lattice[i]['n_sckick']=int(np.ceil(lattice[i]['length']*7))rm "
   ]
  },
  {
   "cell_type": "code",
   "execution_count": null,
   "metadata": {},
   "outputs": [],
   "source": [
    "beam.distribution"
   ]
  },
  {
   "cell_type": "markdown",
   "metadata": {},
   "source": [
    "##### define objective function"
   ]
  },
  {
   "cell_type": "code",
   "execution_count": null,
   "metadata": {},
   "outputs": [],
   "source": [
    "pm.opt.prepare_parallel_objFuncIO_source_of_inputFiles()"
   ]
  },
  {
   "cell_type": "code",
   "execution_count": null,
   "metadata": {},
   "outputs": [],
   "source": [
    "#%%\n",
    "def objFunc(arg): \n",
    "    beamtmp = copy(beam)\n",
    "    for i in QuadIndex:\n",
    "        lattice[i]['Kx']=(-1)**int(i/2)*arg[0]\n",
    "    beamtmp.distribution.betx = arg[1]\n",
    "    beamtmp.distribution.bety = arg[1]\n",
    "    beamtmp.distribution.alfx = arg[2]\n",
    "    beamtmp.distribution.alfy =-arg[2]\n",
    "    \n",
    "    target = pm.opt.construct_temporaryWorkingDirectory()\n",
    "\n",
    "    \n",
    "    pm.writeInputFile(beamtmp,lattice)\n",
    "    pm.run(beam,order=1) # run impact there\n",
    "    \n",
    "    X=pm.readRMS('x')\n",
    "    Y=pm.readRMS('y')\n",
    "    twissX = pm.readOpticsAt(-1,'x')\n",
    "    twissY = pm.readOpticsAt(-1,'y')\n",
    "    \n",
    "    # optimize average rms size to 1.5 mm\n",
    "    obj1 = np.sum( (np.array(X.rms_x)*1E3-1.5)**2 + (np.array(Y.rms_y)*1E3-1.5)**2 )\n",
    "    # periodic condition\n",
    "    obj2 = (twissX.betx - arg[1])**4 + (5.0*twissX.alfx + 5.0*arg[2])**4 +\\\n",
    "           (twissY.bety - arg[1])**4 + (5.0*twissY.alfy - 5.0*arg[2])**4\n",
    "    pm.opt.destrcut_temporaryWorkingDirectory(target)\n",
    "    obj = obj1 + 10*obj2\n",
    "    if np.isnan(obj):\n",
    "        return 1.0e22\n",
    "    else:\n",
    "        return obj"
   ]
  },
  {
   "cell_type": "code",
   "execution_count": null,
   "metadata": {
    "scrolled": true
   },
   "outputs": [],
   "source": [
    "#%% run optim\n",
    "bounds = [(5.0,20.0), (1.0,20.0), (-5.0,5.0)]\n",
    "result=pm.opt.differential_evolution(objFunc, bounds, ncore=4, popsize=16, \n",
    "                                     disp=True, polish=False, maxtime=60*30) \n",
    "                                     # stop running at maximum 30 min\n",
    "with open('result.data','wb') as fp:\n",
    "    pickle.dump(result,fp)"
   ]
  },
  {
   "cell_type": "code",
   "execution_count": null,
   "metadata": {},
   "outputs": [],
   "source": []
  },
  {
   "cell_type": "code",
   "execution_count": null,
   "metadata": {},
   "outputs": [],
   "source": [
    "# save current population of optimization \n",
    "\n",
    "  \n",
    "#%% resume optimization until converge. \n",
    "# Ability to resume optimization is very useful especially for NERSC debug mode\n",
    "while True:\n",
    "    previous_result = result\n",
    "    result = pm.opt.differential_evolution(objFunc, bounds, ncore=4, \n",
    "                                           prev_result=previous_result, \n",
    "                                           disp=True, polish=False, maxtime=60*10)\n",
    "\n",
    "    if hasattr(result,'x'): \n",
    "        break       \n",
    "\n",
    "\n",
    "#%%\n",
    "# print optimization result and save in directory ./print_result\n",
    "def print_result(arg): \n",
    "    beamtmp = copy(beam)\n",
    "    for i in QuadIndex:\n",
    "        lattice[i+1]['B1']=(-1)**int(i/2)*arg[0]\n",
    "    beamtmp.distribution.betx = arg[1]\n",
    "    beamtmp.distribution.bety = arg[1]\n",
    "    beamtmp.distribution.alfx = -arg[2]\n",
    "    beamtmp.distribution.alfy = arg[2]\n",
    "    \n",
    "    target = pm.opt.id_generator()  # generage random directory name\n",
    "    while os.path.exists(target):  \n",
    "        target = pm.opt.id_generator()\n",
    "    shutil.copytree('origin', target) # copy working directory to random directroy\n",
    "    # In this example './origin/' is empty\n",
    "    \n",
    "    os.chdir(target) # cd to the randome directory and\n",
    "    \n",
    "    pm.writeInputFile(beamtmp,lattice)\n",
    "    pm.run() # run impact there\n",
    "    \n",
    "    X=pm.readRMS('x')\n",
    "    Y=pm.readRMS('y')\n",
    "    twissX = pm.readOpticsAt(-1,'x')\n",
    "    twissY = pm.readOpticsAt(-1,'y')\n",
    "    \n",
    "    pm.plot.rms()\n",
    "    os.chdir('..')\n",
    "\n",
    "    return twissX,twissY\n",
    "\n",
    "print(print_result(result.x))"
   ]
  },
  {
   "cell_type": "code",
   "execution_count": null,
   "metadata": {},
   "outputs": [],
   "source": [
    "rm -f -r origin"
   ]
  },
  {
   "cell_type": "code",
   "execution_count": null,
   "metadata": {},
   "outputs": [],
   "source": [
    "beam.distribution"
   ]
  },
  {
   "cell_type": "code",
   "execution_count": null,
   "metadata": {},
   "outputs": [],
   "source": []
  }
 ],
 "metadata": {
  "kernelspec": {
   "display_name": "Python 3",
   "language": "python",
   "name": "python3"
  },
  "language_info": {
   "codemirror_mode": {
    "name": "ipython",
    "version": 3
   },
   "file_extension": ".py",
   "mimetype": "text/x-python",
   "name": "python",
   "nbconvert_exporter": "python",
   "pygments_lexer": "ipython3",
   "version": "3.7.6"
  }
 },
 "nbformat": 4,
 "nbformat_minor": 2
}
