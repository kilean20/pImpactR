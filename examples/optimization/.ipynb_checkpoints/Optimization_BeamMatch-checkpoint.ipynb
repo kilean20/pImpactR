{
 "cells": [
  {
   "cell_type": "code",
   "execution_count": 1,
   "metadata": {},
   "outputs": [],
   "source": [
    "# this example is just an illustration of parallel optimization with IMPACT \n",
    "import os\n",
    "import numpy as np\n",
    "import pickle\n",
    "import shutil \n",
    "import pImpactR as pm\n",
    "import matplotlib.pyplot as plt\n",
    "from copy import deepcopy as copy"
   ]
  },
  {
   "cell_type": "markdown",
   "metadata": {},
   "source": [
    "##### read FODO lattice"
   ]
  },
  {
   "cell_type": "code",
   "execution_count": 2,
   "metadata": {},
   "outputs": [
    {
     "name": "stdout",
     "output_type": "stream",
     "text": [
      "reading ImpactZ input file (\u001b[92mFODO.in\u001b[0m)\n",
      "  : mpi task info .............................done\n",
      "  : simulation control parameters .............done\n",
      "  : space charge field solver, mesh info ......done\n",
      "  : dist-type,restart,subcycle,#of state ......done\n",
      "  : Multiple Charge State info ................done\n",
      "  : particle distribution info ................done\n",
      "  : beam reference orbit info .................done\n",
      "  : converting impact dist to twiss param......done\n",
      "  : lattice info ..............................done\n"
     ]
    }
   ],
   "source": [
    "beam, lattice = pm.readInputFile('FODO.in')\n",
    "\n",
    "beam.kinetic_energy=3.0e6\n",
    "beam.n_particles=1000\n",
    "beam.current=0.0\n",
    "\n",
    "#if space-charge considered uncomment followings\n",
    "#beam['n_particles']=3000\n",
    "#beam['current']=0.04"
   ]
  },
  {
   "cell_type": "markdown",
   "metadata": {},
   "source": [
    "##### adjust integrations steps for each element"
   ]
  },
  {
   "cell_type": "code",
   "execution_count": 3,
   "metadata": {},
   "outputs": [],
   "source": [
    "QuadIndex=[]\n",
    "QuadStrength=[]\n",
    "lattice.insert(0,pm.getElem('loop'))\n",
    "for i in range(len(lattice)):\n",
    "    if lattice[i]['type']=='quad':\n",
    "        QuadIndex.append(i)\n",
    "        QuadStrength.append(lattice[i]['B1'])\n",
    "        lattice[i]['n_sckick']=int(np.ceil(lattice[i]['length']*40))\n",
    "    if lattice[i]['type']=='drift':  \n",
    "        lattice[i]['n_sckick']=int(np.ceil(lattice[i]['length']*1))\n",
    "        #if space-charge considered uncomment followign\n",
    "        #lattice[i]['n_sckick']=int(np.ceil(lattice[i]['length']*7))\n",
    "        \n"
   ]
  },
  {
   "cell_type": "code",
   "execution_count": 4,
   "metadata": {},
   "outputs": [
    {
     "data": {
      "text/plain": [
       "\n",
       " distribution_type: 'Waterbag'\n",
       "              mode: 'twiss'\n",
       "              betz: 29.9999999999737 [degree/MeV]\n",
       "              alfz: -0.0\n",
       "             emitz: 0.3140000000008516 [degree-MeV]\n",
       "            scalez: 1.0 [1.0]\n",
       "           scalepz: 1.0 [1.0]\n",
       "           offsetz: 0.0 [degree]\n",
       "          offsetpz: 0.0 [MeV]\n",
       "              betx: 7.913497387771647 [m]\n",
       "              alfx: -1.6646476164073505\n",
       "             emitx: 2.599999999992861e-07 [m-rad]\n",
       "            scalex: 1.0 [1.0]\n",
       "           scalepx: 1.0 [1.0]\n",
       "           offsetx: 0.0 [m]\n",
       "          offsetpx: 0.0 [rad]\n",
       "              bety: 7.913497387771647 [m]\n",
       "              alfy: 1.6646476164073505\n",
       "             emity: 2.599999999992861e-07 [m-rad]\n",
       "            scaley: 1.0 [1.0]\n",
       "           scalepy: 1.0 [1.0]\n",
       "           offsety: 0.0 [m]\n",
       "          offsetpy: 0.0 [rad]"
      ]
     },
     "execution_count": 4,
     "metadata": {},
     "output_type": "execute_result"
    }
   ],
   "source": [
    "beam.distribution"
   ]
  },
  {
   "cell_type": "markdown",
   "metadata": {},
   "source": [
    "##### define objective function"
   ]
  },
  {
   "cell_type": "code",
   "execution_count": 5,
   "metadata": {},
   "outputs": [
    {
     "name": "stdout",
     "output_type": "stream",
     "text": [
      "mkdir: cannot create directory ‘origin’: File exists\r\n"
     ]
    }
   ],
   "source": [
    "mkdir origin"
   ]
  },
  {
   "cell_type": "code",
   "execution_count": 6,
   "metadata": {},
   "outputs": [],
   "source": [
    "#%%\n",
    "def objFunc(arg): \n",
    "    beamtmp = copy(beam)\n",
    "    for i in QuadIndex:\n",
    "        lattice[i]['B1']=(-1)**int(i/2)*arg[0]\n",
    "    beamtmp.distribution.betx = arg[1]\n",
    "    beamtmp.distribution.bety = arg[1]\n",
    "    beamtmp.distribution.alfx = arg[2]\n",
    "    beamtmp.distribution.alfy =-arg[2]\n",
    "    \n",
    "    target = pm.opt.id_generator()  # generage random directory name\n",
    "    while os.path.exists(target):  \n",
    "        target = pm.opt.id_generator()\n",
    "    shutil.copytree('origin', target) # copy working directory to random directroy\n",
    "    # In this example './origin/' is empty\n",
    "    \n",
    "    os.chdir(target) # cd to the randome directory and\n",
    "    \n",
    "    pm.writeInputFile(beamtmp,lattice)\n",
    "    pm.run() # run impact there\n",
    "    \n",
    "    X=pm.readRMS('x')\n",
    "    Y=pm.readRMS('y')\n",
    "    twissX = pm.readOpticsAt(-1,'x')\n",
    "    twissY = pm.readOpticsAt(-1,'y')\n",
    "    \n",
    "    # optimize average rms size to 1.5 mm\n",
    "    obj1 = np.sum( (np.array(X.rms_x)*1E3-1.5)**2 + (np.array(Y.rms_y)*1E3-1.5)**2 )\n",
    "    # periodic condition\n",
    "    obj2 = (twissX.betx - arg[1])**4 + (5.0*twissX.alfx + 5.0*arg[2])**4 +\\\n",
    "           (twissY.bety - arg[1])**4 + (5.0*twissY.alfy - 5.0*arg[2])**4\n",
    "    os.chdir('..')\n",
    "    shutil.rmtree(target)\n",
    "    return obj1 + 10*obj2"
   ]
  },
  {
   "cell_type": "code",
   "execution_count": null,
   "metadata": {
    "scrolled": true
   },
   "outputs": [],
   "source": [
    "#%% run optim\n",
    "bounds = [(7.0,14.0), (6.0,12.0), (0.9,2.1)]\n",
    "result=pm.opt.differential_evolution(objFunc, bounds, ncore=16, popsize=16, \n",
    "                                     disp=True, polish=False, maxtime=60*10) \n",
    "                                     # stop running at maximum 1 min\n",
    "with open('result.data','wb') as fp:\n",
    "    pickle.dump(result,fp)"
   ]
  },
  {
   "cell_type": "code",
   "execution_count": null,
   "metadata": {},
   "outputs": [],
   "source": [
    "# save current population of optimization \n",
    "\n",
    "  \n",
    "#%% resume optimization until converge. \n",
    "# Ability to resume optimization is very useful especially for NERSC debug mode\n",
    "while True:\n",
    "    previous_result = result\n",
    "    result = pm.opt.differential_evolution(objFunc, bounds, ncore=8, \n",
    "                                           prev_result=previous_result, \n",
    "                                           disp=True, polish=False, maxtime=60*10)\n",
    "\n",
    "    if hasattr(result,'x'): \n",
    "        break       \n",
    "\n",
    "\n",
    "#%%\n",
    "# print optimization result and save in directory ./print_result\n",
    "def print_result(arg): \n",
    "    beamtmp = copy(beam)\n",
    "    for i in QuadIndex:\n",
    "        lattice[i+1]['B1']=(-1)**int(i/2)*arg[0]\n",
    "    beamtmp.distribution.betx = arg[1]\n",
    "    beamtmp.distribution.bety = arg[1]\n",
    "    beamtmp.distribution.alfx = -arg[2]\n",
    "    beamtmp.distribution.alfy = arg[2]\n",
    "    \n",
    "    target = pm.opt.id_generator()  # generage random directory name\n",
    "    while os.path.exists(target):  \n",
    "        target = pm.opt.id_generator()\n",
    "    shutil.copytree('origin', target) # copy working directory to random directroy\n",
    "    # In this example './origin/' is empty\n",
    "    \n",
    "    os.chdir(target) # cd to the randome directory and\n",
    "    \n",
    "    pm.writeInputFile(beamtmp,lattice)\n",
    "    pm.run() # run impact there\n",
    "    \n",
    "    X=pm.readRMS('x')\n",
    "    Y=pm.readRMS('y')\n",
    "    twissX = pm.readOpticsAt(-1,'x')\n",
    "    twissY = pm.readOpticsAt(-1,'y')\n",
    "    \n",
    "    pm.plot.rms()\n",
    "    os.chdir('..')\n",
    "\n",
    "    return twissX,twissY\n",
    "\n",
    "print(print_result(result.x))"
   ]
  },
  {
   "cell_type": "code",
   "execution_count": null,
   "metadata": {},
   "outputs": [],
   "source": [
    "rm -f -r origin"
   ]
  },
  {
   "cell_type": "code",
   "execution_count": null,
   "metadata": {},
   "outputs": [],
   "source": [
    "beam.distribution"
   ]
  },
  {
   "cell_type": "code",
   "execution_count": null,
   "metadata": {},
   "outputs": [],
   "source": []
  }
 ],
 "metadata": {
  "kernelspec": {
   "display_name": "Python 3",
   "language": "python",
   "name": "python3"
  },
  "language_info": {
   "codemirror_mode": {
    "name": "ipython",
    "version": 3
   },
   "file_extension": ".py",
   "mimetype": "text/x-python",
   "name": "python",
   "nbconvert_exporter": "python",
   "pygments_lexer": "ipython3",
   "version": "3.6.5"
  }
 },
 "nbformat": 4,
 "nbformat_minor": 2
}
