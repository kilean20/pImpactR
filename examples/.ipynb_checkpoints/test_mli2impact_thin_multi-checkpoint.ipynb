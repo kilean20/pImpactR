{
 "cells": [
  {
   "cell_type": "code",
   "execution_count": 1,
   "metadata": {},
   "outputs": [],
   "source": [
    "import pImpactR as impact\n",
    "import numpy as np\n",
    "np.set_printoptions(precision=12)\n",
    "\n",
    "MLI = impact.MLI\n",
    "mli = impact.data.dictClass()\n",
    "pip = impact.data.dictClass()"
   ]
  },
  {
   "cell_type": "code",
   "execution_count": 2,
   "metadata": {},
   "outputs": [],
   "source": [
    "mass = 0.000511005*1.0e9\n",
    "energy = 1.0e8 + mass\n",
    "q = -1.0\n",
    "npt=10\n",
    "std=0.5\n",
    "Espread = 2.0e-3"
   ]
  },
  {
   "cell_type": "code",
   "execution_count": 3,
   "metadata": {},
   "outputs": [],
   "source": [
    "gam0 = energy/mass\n",
    "bg0 = (energy-mass)/mass\n",
    "bet0 = bg0/gam0"
   ]
  },
  {
   "cell_type": "markdown",
   "metadata": {},
   "source": [
    "# Prepare MLI"
   ]
  },
  {
   "cell_type": "code",
   "execution_count": 4,
   "metadata": {
    "scrolled": true
   },
   "outputs": [],
   "source": [
    "mli.beam = MLI.getElem.beam(mass=mass*1.0e-9,charge=q,ekinetic=(energy-mass)*1.0e-9)\n",
    "mli.elemList = MLI.getElem.elemList(mli.beam)\n",
    "mli.elem= MLI.getElem.thlm(name='testelem',k2l=100)\n",
    "mli.elemList.append(mli.elem)\n",
    "mli.readp = MLI.getElem.raytrace()\n",
    "mli.track = MLI.getElem.autotrack()\n",
    "mli.dumpp = MLI.getElem.particledump()\n",
    "mli.elemList = mli.elemList +[mli.readp,mli.dumpp,mli.track]\n",
    "mli.lineList = [MLI.getElem.line(elemList=[mli.elem,mli.dumpp])]\n",
    "mli.labor = [mli.readp.name,mli.track.name,mli.lineList[0].name]\n",
    "MLI.writeInputfile(mli.elemList,mli.lineList,mli.labor)"
   ]
  },
  {
   "cell_type": "code",
   "execution_count": 5,
   "metadata": {},
   "outputs": [
    {
     "name": "stdout",
     "output_type": "stream",
     "text": [
      "#menu \r\n",
      "\r\n",
      "beam: beam, ekinetic=0.1, mass=0.0005110050000000001, charge=-1.0 \r\n",
      "units: units, type=static \r\n",
      "setdefaults: globaldefaults, lfrngsbend=1, tfrngsbend=1, lfrngquad=0, tfrngquad=0, driftexact=0 \r\n",
      "testelem: thlm, k2l=100 \r\n",
      "raytrace: raytrace, file1=rays.in, type=readonly \r\n",
      "particledump: particledump, file=rays.out, precision=9, close=false, flush=true, nunits=0 \r\n",
      "autotrack:autotrack, type=symplectic5 \r\n",
      "\r\n",
      "lattice, line=( testelem particledump ) \r\n",
      "#labor\r\n",
      "raytrace\r\n",
      "autotrack\r\n",
      "lattice\r\n"
     ]
    }
   ],
   "source": [
    "!cat mli.in"
   ]
  },
  {
   "cell_type": "markdown",
   "metadata": {},
   "source": [
    "# Prepare Impact"
   ]
  },
  {
   "cell_type": "code",
   "execution_count": 6,
   "metadata": {
    "scrolled": true
   },
   "outputs": [
    {
     "name": "stdout",
     "output_type": "stream",
     "text": [
      "particledump is not recognized. skipping...\n"
     ]
    }
   ],
   "source": [
    "beam=impact.mli2impact.beam(mli.elemList)\n",
    "lattice=impact.mli2impact.lattice(mli.elemList,mli.lineList[0])\n",
    "beam.n_particles=npt\n",
    "beam.nCore_y = 1\n",
    "beam.nCore_z = 1\n",
    "ke = beam.kinetic_energy\n",
    "freq = beam.frequency\n",
    "q_m  = beam.multi_charge.q_m[0]\n",
    "\n",
    "loop=impact.getElem('loop')\n",
    "loop.turns = 1\n",
    "lattice.insert(0,loop)\n",
    "writep=impact.getElem('write_raw_ptcl')\n",
    "lattice.append(writep)\n",
    "impact.writeInputFile(beam,lattice)"
   ]
  },
  {
   "cell_type": "code",
   "execution_count": 7,
   "metadata": {},
   "outputs": [
    {
     "name": "stdout",
     "output_type": "stream",
     "text": [
      "!================= Beam & Control Parameters ================= \r\n",
      "1 1 \r\n",
      "6 10 1 0 1 \r\n",
      "32 32 32 1 0.014 0.014 0.1 \r\n",
      "23 0 0 1 \r\n",
      "10 \r\n",
      "0.0 \r\n",
      "-1.95692801440299e-06 \r\n",
      "0.0 0.0 0.0 0.0 0.0 0.0 0.0 \r\n",
      "0.0 0.0 0.0 0.0 0.0 0.0 0.0 \r\n",
      "0.0 0.0 0.0 0.0 0.0 0.0 0.0 \r\n",
      "0.0 100000000.0 511005.0000000001 -1.0 30000000.0 0.0 \r\n",
      "!========================== Lattice ========================== \r\n",
      "0.0 0 0 -16 0.0 1 / \r\n",
      "0.0 0 0 5 0.0 0.0 0.0 100 0.0 0.0 0.0 / \r\n",
      "0.0 0 1000 -2 1 1 1 / \r\n"
     ]
    }
   ],
   "source": [
    "!cat test.in"
   ]
  },
  {
   "cell_type": "markdown",
   "metadata": {},
   "source": [
    "# Prepare particles"
   ]
  },
  {
   "cell_type": "code",
   "execution_count": 8,
   "metadata": {},
   "outputs": [],
   "source": [
    "def Impact2norm(data_in):\n",
    "    data=data_in.copy()\n",
    "    data[:,5] = -(np.sqrt(1.0-2.0*data[:,5]/mass/(bet0*bg0)+(data[:,5]/mass)**2/bg0**2)-1.0)\n",
    "    return data\n",
    "    \n",
    "def norm2Impact(data_in):\n",
    "    data=data_in.copy()\n",
    "    data[:,5] = (bg0*np.sqrt(1/bet0**2+2.0*data[:,5]+data[:,5]**2)-bg0/bet0)*mass\n",
    "    return data"
   ]
  },
  {
   "cell_type": "code",
   "execution_count": 9,
   "metadata": {},
   "outputs": [],
   "source": [
    "def MLI2norm(data_in):\n",
    "    data=data_in.copy()\n",
    "    data[:,5] = np.sqrt(1.0-2.0*data[:,5]/bet0+data[:,5]**2)-1.0\n",
    "    return data\n",
    "    \n",
    "def norm2MLI(data_in):\n",
    "    data=data_in.copy()\n",
    "    data[:,5] = -np.sqrt((1.0+data[:,5])**2+1.0/(bet0*gam0)**2)+1.0/bet0\n",
    "    return data"
   ]
  },
  {
   "cell_type": "code",
   "execution_count": 10,
   "metadata": {},
   "outputs": [],
   "source": [
    "from scipy.stats import truncnorm\n",
    "\n",
    "def get_truncated_normal(mean=0, sd=1, low=0, upp=10,n=1):\n",
    "    f = truncnorm(\n",
    "        (low - mean) / sd, (upp - mean) / sd, loc=mean, scale=sd)\n",
    "    return f.rvs(n)"
   ]
  },
  {
   "cell_type": "code",
   "execution_count": 11,
   "metadata": {},
   "outputs": [],
   "source": [
    "std=0.001\n",
    "x=get_truncated_normal(sd=std,low=-2.0*std,upp=2.0*std,n=npt*5)\n",
    "pData0=np.zeros([npt,9])\n",
    "pData0[:,[0,1,2,3,5]]=x.reshape([npt,5])\n",
    "pData0[:,5] = pData0[:,5]/0.2*Espread\n",
    "pData0[:,6] = q_m\n",
    "pData0[:,-1] = np.arange(1,npt+1)\n",
    "pDataIMP0 = norm2Impact(pData0)\n",
    "pDataMLI0 = norm2MLI(pData0[:,:6])\n",
    "\n",
    "impact.writeParticleData(pDataIMP0,ke,mass,freq)\n",
    "np.savetxt('rays.in',pDataMLI0)"
   ]
  },
  {
   "cell_type": "markdown",
   "metadata": {},
   "source": [
    "# Run and check"
   ]
  },
  {
   "cell_type": "code",
   "execution_count": 12,
   "metadata": {
    "scrolled": true
   },
   "outputs": [
    {
     "data": {
      "text/plain": [
       "0"
      ]
     },
     "execution_count": 12,
     "metadata": {},
     "output_type": "execute_result"
    }
   ],
   "source": [
    "impact.MLI.run()\n",
    "impact.run()"
   ]
  },
  {
   "cell_type": "code",
   "execution_count": 17,
   "metadata": {},
   "outputs": [],
   "source": [
    "pDataImp1 = impact.readParticleData(1000,ke,mass,freq)\n",
    "pDataMLI1 = np.loadtxt('rays.out')"
   ]
  },
  {
   "cell_type": "code",
   "execution_count": 20,
   "metadata": {},
   "outputs": [
    {
     "data": {
      "text/plain": [
       "array([[-2.164999064032e-05,  4.618127632876e-05],\n",
       "       [ 1.093127609472e-04, -1.027547218481e-04],\n",
       "       [-2.270736249273e-05,  8.407928081408e-05],\n",
       "       [-5.701054622188e-05,  2.776916364076e-05],\n",
       "       [ 2.318900618533e-07,  1.576753627778e-05],\n",
       "       [-7.720099766796e-05, -2.590420184732e-04],\n",
       "       [ 3.284418922517e-05, -4.028677236609e-06],\n",
       "       [-1.221081285402e-04,  7.854006214111e-05],\n",
       "       [ 1.648821581799e-05, -4.922599977460e-05],\n",
       "       [ 4.088084123315e-06, -6.907233586545e-06]])"
      ]
     },
     "execution_count": 20,
     "metadata": {},
     "output_type": "execute_result"
    }
   ],
   "source": [
    "pDataImp1[:,[1,3]]-pData0[:,[1,3]]"
   ]
  },
  {
   "cell_type": "code",
   "execution_count": 21,
   "metadata": {},
   "outputs": [
    {
     "data": {
      "text/plain": [
       "array([[-2.164999016210e-05,  4.618127594427e-05],\n",
       "       [ 1.093127614423e-04, -1.027547183586e-04],\n",
       "       [-2.270736244593e-05,  8.407928118664e-05],\n",
       "       [-5.701054614196e-05,  2.776916322744e-05],\n",
       "       [ 2.318940457626e-07,  1.576753620683e-05],\n",
       "       [-7.720100236274e-05, -2.590420184337e-04],\n",
       "       [ 3.284418931966e-05, -4.028681463912e-06],\n",
       "       [-1.221081289705e-04,  7.854006211684e-05],\n",
       "       [ 1.648821576541e-05, -4.922599937006e-05],\n",
       "       [ 4.088084343854e-06, -6.907233591925e-06]])"
      ]
     },
     "execution_count": 21,
     "metadata": {},
     "output_type": "execute_result"
    }
   ],
   "source": [
    "pDataMLI1[:,[1,3]]-pData0[:,[1,3]]"
   ]
  },
  {
   "cell_type": "code",
   "execution_count": null,
   "metadata": {},
   "outputs": [],
   "source": []
  }
 ],
 "metadata": {
  "kernelspec": {
   "display_name": "Python 3",
   "language": "python",
   "name": "python3"
  },
  "language_info": {
   "codemirror_mode": {
    "name": "ipython",
    "version": 3
   },
   "file_extension": ".py",
   "mimetype": "text/x-python",
   "name": "python",
   "nbconvert_exporter": "python",
   "pygments_lexer": "ipython3",
   "version": "3.6.5"
  }
 },
 "nbformat": 4,
 "nbformat_minor": 2
}
