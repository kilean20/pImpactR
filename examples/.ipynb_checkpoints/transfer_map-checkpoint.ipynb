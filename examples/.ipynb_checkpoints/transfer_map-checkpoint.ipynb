{
 "cells": [
  {
   "cell_type": "code",
   "execution_count": 1,
   "metadata": {},
   "outputs": [],
   "source": [
    "import pImpactR as pip\n",
    "import numpy as np\n",
    "np.set_printoptions(precision=3)\n",
    "from IPython.display import Image"
   ]
  },
  {
   "cell_type": "markdown",
   "metadata": {},
   "source": [
    "## Build FODO lattice"
   ]
  },
  {
   "cell_type": "code",
   "execution_count": 2,
   "metadata": {},
   "outputs": [
    {
     "name": "stdout",
     "output_type": "stream",
     "text": [
      "\n",
      "  f = getElem(type)\n",
      "  \n",
      "  get a template of an element dictionary.  \n",
      "  inquire data.elem_type for available types\n",
      "  input \n",
      "      type = (str) element type. \n",
      "      \n",
      "  output \n",
      "      f = (dict) element dictionary\n",
      "  \n"
     ]
    }
   ],
   "source": [
    "print(pip.getElem.__doc__)"
   ]
  },
  {
   "cell_type": "code",
   "execution_count": 3,
   "metadata": {},
   "outputs": [
    {
     "name": "stdout",
     "output_type": "stream",
     "text": [
      "\n",
      "        type: 'drift'\n",
      "      length: 0.1 [m]\n",
      "    n_sckick: 1 [1]\n",
      "       n_map: 1 [1]\n",
      " pipe_radius: 1.0 [m]\n",
      "\n",
      "        type: 'quad'\n",
      "      length: 0.1 [m]\n",
      "    n_sckick: 1 [1]\n",
      "       n_map: 1 [1]\n",
      "          B1: 10.0 [T/m]\n",
      "     file_id: 0\n",
      " pipe_radius: 1.0 [m]\n",
      "  misalign_x: 0.0 [m]\n",
      "  misalign_y: 0.0 [m]\n",
      "  rotation_x: 0.0 [rad]\n",
      "  rotation_y: 0.0 [rad]\n",
      "  rotation_z: 0.0 [rad]\n"
     ]
    }
   ],
   "source": [
    "D0 = pip.getElem('drift')\n",
    "D1 = pip.getElem('drift')\n",
    "Qf = pip.getElem('quad')\n",
    "Qd = pip.getElem('quad')\n",
    "print(D0)\n",
    "print(Qf)"
   ]
  },
  {
   "cell_type": "code",
   "execution_count": 4,
   "metadata": {},
   "outputs": [],
   "source": [
    "D0['length'] = 0.5  # drift length [meter]\n",
    "D1['length'] = 1.0\n",
    "Qf['length'] = 0.2   # quad [meter]\n",
    "Qd['length'] = 0.2\n",
    "Qf['B1']     =-8.0   # quad strength [Tesla]\n",
    "Qd['B1']     = 8.0\n",
    "Qf['n_sckick'] = 10   # number of IMPACTz integration steps\n",
    "Qd['n_sckick'] = 10\n",
    "\n",
    "lattice = [D0,Qf,D1,Qd,D0]  # FOCO cell"
   ]
  },
  {
   "cell_type": "code",
   "execution_count": 5,
   "metadata": {},
   "outputs": [
    {
     "name": "stdout",
     "output_type": "stream",
     "text": [
      "0th element of lattice is drift of length 0.5\n",
      "1th element of lattice is quad of length 0.2\n",
      "2th element of lattice is drift of length 1.0\n",
      "3th element of lattice is quad of length 0.2\n",
      "4th element of lattice is drift of length 0.5\n"
     ]
    }
   ],
   "source": [
    "# print, check lattice\n",
    "for i in range(len(lattice)):\n",
    "    print( str(i)+'th element of lattice is',lattice[i]['type'], 'of length',lattice[i]['length'] )"
   ]
  },
  {
   "cell_type": "markdown",
   "metadata": {},
   "source": [
    "## Get linear transfer map of FODO lattice"
   ]
  },
  {
   "cell_type": "code",
   "execution_count": 6,
   "metadata": {},
   "outputs": [
    {
     "name": "stdout",
     "output_type": "stream",
     "text": [
      "\n",
      "    M = getTransferMap(lattice,q,mass,ke,freq,\n",
      "                       epsilon=[1e-8,1e-6,1e-8,1e-6,1e-7,1e-9],\n",
      "                       fname='test.in' )\n",
      "    get linear transfer map (without space-charge)  by tracking 6 particles\n",
      "    whose initial phase-space perturbation given by epsilon\n",
      "    input\n",
      "        beamIn  = impact beam class\n",
      "        lattice = (dict) lattice dictionary whose transvermap to be determined\n",
      "        epsilon = 6 dimension array of perturbation for \n",
      "                  x,px,y,py, z*360/v/freq, E  in unit of \n",
      "                  [m],[rad],[m],[rad],[deg],[MeV]\n",
      "                  default : epsilon = [1e-e-8,1e-6,1e-8,1e-6,1e-7,1e-8]\n",
      "    \n"
     ]
    }
   ],
   "source": [
    "print( pip.getTransferMap.__doc__ )"
   ]
  },
  {
   "cell_type": "code",
   "execution_count": 10,
   "metadata": {},
   "outputs": [],
   "source": [
    "ke = 1e9 # kinetic energy [MeV]\n",
    "mass = 0.510999*1.0e6 # electron mass [MeV]\n",
    "freq = 300e6    # reference rf freq [Hz]\n",
    "q = 1.0  # charge\n",
    "\n",
    "beam = pip.getBeam()\n",
    "beam.charge = q\n",
    "beam.mass = mass\n",
    "beam.multi_charge.q_m[0] = q/mass\n",
    "beam.kinetic_energy = ke\n",
    "beam.n_particles = 4096\n",
    "beam.frequency = freq\n",
    "beam.current = 0.0"
   ]
  },
  {
   "cell_type": "code",
   "execution_count": null,
   "metadata": {},
   "outputs": [],
   "source": [
    "M = pip.getTransferMap(beam,lattice)\n",
    "M"
   ]
  },
  {
   "cell_type": "markdown",
   "metadata": {},
   "source": [
    "# Optimization of optics"
   ]
  },
  {
   "cell_type": "markdown",
   "metadata": {},
   "source": [
    "#### The optics parameter from transfer map"
   ]
  },
  {
   "cell_type": "code",
   "execution_count": null,
   "metadata": {},
   "outputs": [],
   "source": [
    "cosPhi = (M[0,0]+M[1,1])/2.0\n",
    "betX = np.sqrt(M[0,1]*M[0,1]/(1-cosPhi*cosPhi))\n",
    "sinPhi = M[0,1]/betX\n",
    "phiX = np.mod( np.arctan(sinPhi/cosPhi)*180/np.pi , 360)\n",
    "alfX = (M[0,0]-M[1,1])/2.0/sinPhi\n",
    "print betX,alfX,phiX"
   ]
  },
  {
   "cell_type": "markdown",
   "metadata": {},
   "source": [
    "#### Define cost function whose goal is phiX = 70 deg"
   ]
  },
  {
   "cell_type": "code",
   "execution_count": null,
   "metadata": {},
   "outputs": [],
   "source": [
    "def costFunc(B):\n",
    "    Qf['B1'] = -B[0]\n",
    "    Qd['B1'] = B[0]\n",
    "    M = pip.getTransferMap(lattice,-1.0,mass,ke,freq)\n",
    "    cosPhi = (M[0,0]+M[1,1])/2\n",
    "    if cosPhi>=1.0:\n",
    "        return np.nan\n",
    "    sinPhi = M[0,1]/betX\n",
    "    phiX = np.mod( np.arctan(sinPhi/cosPhi)*180/np.pi , 360)\n",
    "    return (phiX-70.0)**2"
   ]
  },
  {
   "cell_type": "markdown",
   "metadata": {},
   "source": [
    "#### Run optimization algorithm (differential evoluation)"
   ]
  },
  {
   "cell_type": "code",
   "execution_count": null,
   "metadata": {},
   "outputs": [],
   "source": [
    "print pip.opt.differential_evolution.__doc__"
   ]
  },
  {
   "cell_type": "code",
   "execution_count": null,
   "metadata": {},
   "outputs": [],
   "source": [
    "bounds = ((8.0,20.0),)  # the comma is important for single knob optimization\n",
    "result = pip.opt.differential_evolution(costFunc,bounds,popsize=10,tol=0.02,ncore=1)  \n",
    "# ncore = 1 by default. \n",
    "# One need to use ipyparallel to run differential_evolution in parallel with jupyter notebook"
   ]
  },
  {
   "cell_type": "code",
   "execution_count": null,
   "metadata": {},
   "outputs": [],
   "source": [
    "print result\n",
    "print result.x[0]"
   ]
  },
  {
   "cell_type": "markdown",
   "metadata": {},
   "source": [
    "#### Check result"
   ]
  },
  {
   "cell_type": "code",
   "execution_count": null,
   "metadata": {},
   "outputs": [],
   "source": [
    "Qf['B1']=-result.x[0]\n",
    "Qd['B1']= result.x[0]\n",
    "M = pip.getTransferMap(lattice,q,mass,ke,freq)\n",
    "cosPhi = (M[0,0]+M[1,1])/2.0\n",
    "betX = np.sqrt(M[0,1]*M[0,1]/(1-cosPhi*cosPhi))\n",
    "sinPhi = M[0,1]/betX\n",
    "phiX = np.mod( np.arctan(sinPhi/cosPhi)*180/np.pi , 360)\n",
    "alfX = (M[0,0]-M[1,1])/2.0/sinPhi\n",
    "print 'betX,alfX,phiX =',betX,alfX,phiX\n",
    "cosPhi = (M[2,2]+M[3,3])/2.0\n",
    "betY = np.sqrt(M[2,3]*M[2,3]/(1-cosPhi*cosPhi))\n",
    "sinPhi = M[2,3]/betY\n",
    "phiY = np.mod( np.arctan(sinPhi/cosPhi)*180/np.pi , 360)\n",
    "alfY = (M[2,2]-M[3,3])/2.0/sinPhi\n",
    "print 'betY,alfY,phiY =',betY,alfY,phiY"
   ]
  },
  {
   "cell_type": "code",
   "execution_count": null,
   "metadata": {},
   "outputs": [],
   "source": [
    "beam = pip.getBeam()\n",
    "beam['mass'] = mass*1e6\n",
    "beam['charge per mass'] = q/beam['mass']\n",
    "beam['energy'] = ke*1e6\n",
    "beam['n_particles'] = 4096\n",
    "beam['frequency'] = freq\n",
    "beam['distribution id'] = 3  # water bag distribution\n",
    "beam['current'] = 0.0\n",
    "print beam"
   ]
  },
  {
   "cell_type": "code",
   "execution_count": null,
   "metadata": {},
   "outputs": [],
   "source": [
    "emitX = 1e-7\n",
    "# somehow alpha sign was opposite for negative charge(like electron) in IMPACT. why ??!!???\n",
    "pip.twiss2beam(beam,betX,q/abs(q)*alfX,emitX,\n",
    "                    betY,q/abs(q)*alfY,emitX,\n",
    "                    30,  0.0, emitX)\n",
    "lattice.append(pip.getElem('write full'))\n",
    "pip.writeIMPACT('test.in',beam,lattice)\n",
    "pip.run()\n",
    "print betX,alfX,emitX\n",
    "print pip.readOpticsAt(0,'x')\n",
    "print pip.readOpticsAt(-1,'x')"
   ]
  },
  {
   "cell_type": "code",
   "execution_count": null,
   "metadata": {},
   "outputs": [],
   "source": [
    "pip.plot.rms(savefileID=55)\n",
    "Image(filename='x55.png') "
   ]
  },
  {
   "cell_type": "code",
   "execution_count": null,
   "metadata": {},
   "outputs": [],
   "source": []
  }
 ],
 "metadata": {
  "kernelspec": {
   "display_name": "Python 3",
   "language": "python",
   "name": "python3"
  },
  "language_info": {
   "codemirror_mode": {
    "name": "ipython",
    "version": 3
   },
   "file_extension": ".py",
   "mimetype": "text/x-python",
   "name": "python",
   "nbconvert_exporter": "python",
   "pygments_lexer": "ipython3",
   "version": "3.6.5"
  }
 },
 "nbformat": 4,
 "nbformat_minor": 2
}
