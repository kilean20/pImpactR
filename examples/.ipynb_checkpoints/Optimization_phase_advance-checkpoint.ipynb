{
 "cells": [
  {
   "cell_type": "markdown",
   "metadata": {},
   "source": [
    "# optimize FODO cell phase advance to $\\pi/6$ \n",
    "- illustration of use of the 'util' and 'opt' module"
   ]
  },
  {
   "cell_type": "code",
   "execution_count": 1,
   "metadata": {},
   "outputs": [],
   "source": [
    "import numpy as np\n",
    "import pImpactR as impact"
   ]
  },
  {
   "cell_type": "markdown",
   "metadata": {},
   "source": [
    "##### build FODO lattice"
   ]
  },
  {
   "cell_type": "code",
   "execution_count": 2,
   "metadata": {},
   "outputs": [],
   "source": [
    "Lq = 0.05\n",
    "Ld = 0.2\n",
    "K1 = 1.0\n",
    "\n",
    "D0 = impact.util.Mdrift(Ld)\n",
    "D1 = impact.util.Mdrift(Ld/2)\n",
    "\n",
    "def getM(K1):\n",
    "    QF = impact.util.Mquad(Lq,K1)\n",
    "    QD = impact.util.Mquad(Lq,K1)\n",
    "    return D1*QF*D0*QD*D1"
   ]
  },
  {
   "cell_type": "markdown",
   "metadata": {},
   "source": [
    "##### obj function"
   ]
  },
  {
   "cell_type": "code",
   "execution_count": 3,
   "metadata": {},
   "outputs": [],
   "source": [
    "def obj(K1):\n",
    "    M = getM(K1[0])\n",
    "    phitmp = np.arccos((M[0,0]+M[1,1])/2)\n",
    "    return (np.pi/6.0-phitmp)**2"
   ]
  },
  {
   "cell_type": "code",
   "execution_count": 4,
   "metadata": {
    "scrolled": true
   },
   "outputs": [
    {
     "name": "stdout",
     "output_type": "stream",
     "text": [
      "differential_evolution step 1: f(x)= 0.000175241\n",
      "differential_evolution step 1: f(x)= 0.000175241\n",
      "differential_evolution step 2: f(x)= 4.83251e-05\n",
      "differential_evolution step 3: f(x)= 2.7721e-05\n",
      "differential_evolution step 4: f(x)= 8.28562e-08\n",
      "differential_evolution step 5: f(x)= 8.28562e-08\n",
      "differential_evolution step 6: f(x)= 8.28562e-08\n",
      "differential_evolution step 7: f(x)= 8.28562e-08\n",
      "differential_evolution step 8: f(x)= 8.28562e-08\n",
      "differential_evolution step 9: f(x)= 8.28562e-08\n",
      "differential_evolution step 10: f(x)= 1.82187e-08\n"
     ]
    }
   ],
   "source": [
    "#%% run optim\n",
    "bounds = [(0,14.0)]\n",
    "result = impact.opt.differential_evolution(obj, bounds, ncore=8, popsize=15, \n",
    "                                     disp=True, polish=True, maxtime=2) \n",
    "                                     # stop running at maximum 2 sec"
   ]
  },
  {
   "cell_type": "code",
   "execution_count": 5,
   "metadata": {},
   "outputs": [
    {
     "name": "stdout",
     "output_type": "stream",
     "text": [
      "differential_evolution step 0: f(x)= 1.82187e-08\n",
      "differential_evolution step 0: f(x)= 1.82187e-08\n",
      "differential_evolution step 1: f(x)= 7.49867e-09\n",
      "differential_evolution step 2: f(x)= 7.49867e-09\n",
      "differential_evolution step 3: f(x)= 1.4278e-09\n",
      "differential_evolution step 4: f(x)= 6.72614e-11\n",
      "differential_evolution step 5: f(x)= 6.72614e-11\n",
      "differential_evolution step 6: f(x)= 6.72614e-11\n",
      "differential_evolution step 7: f(x)= 6.72614e-11\n",
      "differential_evolution step 8: f(x)= 6.72614e-11\n",
      "differential_evolution step 9: f(x)= 1.30267e-11\n",
      "differential_evolution step 10: f(x)= 4.13005e-12\n",
      "differential_evolution step 11: f(x)= 5.73449e-13\n",
      "differential_evolution step 12: f(x)= 5.73449e-13\n",
      "differential_evolution step 13: f(x)= 5.73449e-13\n",
      "differential_evolution step 14: f(x)= 5.73449e-13\n",
      "differential_evolution step 15: f(x)= 1.61744e-14\n",
      "differential_evolution step 16: f(x)= 1.61744e-14\n",
      "differential_evolution step 17: f(x)= 1.61744e-14\n",
      "differential_evolution step 18: f(x)= 1.61744e-14\n",
      "differential_evolution step 19: f(x)= 5.71256e-15\n",
      "differential_evolution step 20: f(x)= 5.71256e-15\n",
      "differential_evolution step 21: f(x)= 3.9922e-15\n",
      "differential_evolution step 22: f(x)= 3.9922e-15\n",
      "differential_evolution step 23: f(x)= 3.17325e-16\n",
      "differential_evolution step 24: f(x)= 1.12898e-16\n",
      "differential_evolution step 25: f(x)= 1.88319e-19\n",
      "differential_evolution step 26: f(x)= 1.88319e-19\n",
      "differential_evolution step 27: f(x)= 1.88319e-19\n",
      "differential_evolution step 28: f(x)= 1.88319e-19\n",
      "differential_evolution step 29: f(x)= 1.88319e-19\n",
      "differential_evolution step 30: f(x)= 1.88319e-19\n",
      "differential_evolution step 31: f(x)= 1.88319e-19\n",
      "differential_evolution step 32: f(x)= 2.76781e-20\n",
      "differential_evolution step 33: f(x)= 1.4274e-20\n",
      "differential_evolution step 34: f(x)= 5.69625e-21\n",
      "differential_evolution step 35: f(x)= 5.69625e-21\n"
     ]
    }
   ],
   "source": [
    "result = impact.opt.differential_evolution(obj, bounds, ncore=8, prev_result=result, \n",
    "                                     disp=True, polish=True) \n",
    "                                     # resume"
   ]
  },
  {
   "cell_type": "code",
   "execution_count": 6,
   "metadata": {},
   "outputs": [
    {
     "name": "stdout",
     "output_type": "stream",
     "text": [
      "     fun: 5.696251666540112e-21\n",
      " message: 'Optimization terminated successfully.'\n",
      "     nit: 35\n",
      " success: True\n",
      "       x: array([5.46305229])\n"
     ]
    }
   ],
   "source": [
    "print(result)"
   ]
  }
 ],
 "metadata": {
  "kernelspec": {
   "display_name": "Python 3",
   "language": "python",
   "name": "python3"
  },
  "language_info": {
   "codemirror_mode": {
    "name": "ipython",
    "version": 3
   },
   "file_extension": ".py",
   "mimetype": "text/x-python",
   "name": "python",
   "nbconvert_exporter": "python",
   "pygments_lexer": "ipython3",
   "version": "3.6.5"
  }
 },
 "nbformat": 4,
 "nbformat_minor": 2
}
