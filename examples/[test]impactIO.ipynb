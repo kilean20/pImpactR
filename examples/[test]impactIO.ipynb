{
 "cells": [
  {
   "cell_type": "code",
   "execution_count": 1,
   "metadata": {},
   "outputs": [],
   "source": [
    "import numpy as np\n",
    "import data\n",
    "import impactIO\n",
    "input_fname = 'test_IOTA.in'"
   ]
  },
  {
   "cell_type": "markdown",
   "metadata": {},
   "source": [
    "### _readraw"
   ]
  },
  {
   "cell_type": "code",
   "execution_count": 2,
   "metadata": {},
   "outputs": [],
   "source": [
    "raw = impactIO._readraw(input_fname)"
   ]
  },
  {
   "cell_type": "code",
   "execution_count": 3,
   "metadata": {
    "scrolled": true
   },
   "outputs": [
    {
     "name": "stdout",
     "output_type": "stream",
     "text": [
      "['32', '32']\n",
      "['4.113e-4', '2.5e6', '938.272045e6', '1.0', '30.0e6', '0.0']\n",
      "['0.0', '0', '1', '-16', '1.0', '100000']\n",
      "['0', '0', '90', '-2', '0', '1']\n"
     ]
    }
   ],
   "source": [
    "print(raw[0])\n",
    "print(raw[10])\n",
    "print(raw[11])\n",
    "print(raw[12])"
   ]
  },
  {
   "cell_type": "markdown",
   "metadata": {},
   "source": [
    "### readInputFile"
   ]
  },
  {
   "cell_type": "code",
   "execution_count": 4,
   "metadata": {
    "scrolled": true
   },
   "outputs": [
    {
     "name": "stdout",
     "output_type": "stream",
     "text": [
      "reading ImpactZ input file (\u001b[92mtest_IOTA.in\u001b[0m)\n",
      "  : mpi task info .............................done\n",
      "  : simulation control parameters .............done\n",
      "  : space charge field solver, mesh info ......done\n",
      "  : dist-type,restart,subcycle,#of state ......done\n",
      "  : Multiple Charge State info ................done\n",
      "  : particle distribution info ................done\n",
      "  : beam reference orbit info .................done\n",
      "  : converting impact dist to twiss param......done\n",
      "  : lattice info ...\n",
      "    :  1 th element ...loop_through_lattice ........ done\n",
      "    :  2 th element ...write_raw_ptcl ........ done\n",
      "    :  3 th element ...-8 ........ done\n",
      "    :  4 th element ...nonlinear_insert ........ done\n",
      "    :  5 th element ...write_raw_ptcl ........ done\n",
      "    :  6 th element ...-8 ........ done\n",
      "    :  7 th element ...drift ........ done\n",
      "    :  8 th element ...drift ........ done\n",
      "    :  9 th element ...quad ........ done\n",
      "    :  10 th element ...drift ........ done\n",
      "    :  11 th element ...quad ........ done\n",
      "    :  12 th element ...drift ........ done\n",
      "    :  13 th element ...quad ........ done\n",
      "    :  14 th element ...drift ........ done\n",
      "    :  15 th element ...drift ........ done\n",
      "    :  16 th element ...drift ........ done\n",
      "    :  17 th element ...dipole ........ done\n",
      "    :  18 th element ...drift ........ done\n",
      "    :  19 th element ...drift ........ done\n",
      "    :  20 th element ...drift ........ done\n",
      "    :  21 th element ...drift ........ done\n",
      "    :  22 th element ...quad ........ done\n",
      "    :  23 th element ...drift ........ done\n",
      "    :  24 th element ...drift ........ done\n",
      "    :  25 th element ...multipole ........ done\n",
      "    :  26 th element ...drift ........ done\n",
      "    :  27 th element ...drift ........ done\n",
      "    :  28 th element ...quad ........ done\n",
      "    :  29 th element ...drift ........ done\n",
      "    :  30 th element ...drift ........ done\n",
      "    :  31 th element ...multipole ........ done\n",
      "    :  32 th element ...drift ........ done\n",
      "    :  33 th element ...drift ........ done\n",
      "    :  34 th element ...quad ........ done\n",
      "    :  35 th element ...drift ........ done\n",
      "    :  36 th element ...drift ........ done\n",
      "    :  37 th element ...drift ........ done\n",
      "    :  38 th element ...drift ........ done\n",
      "    :  39 th element ...dipole ........ done\n",
      "    :  40 th element ...drift ........ done\n",
      "    :  41 th element ...drift ........ done\n",
      "    :  42 th element ...drift ........ done\n",
      "    :  43 th element ...drift ........ done\n",
      "    :  44 th element ...quad ........ done\n",
      "    :  45 th element ...drift ........ done\n",
      "    :  46 th element ...drift ........ done\n",
      "    :  47 th element ...multipole ........ done\n",
      "    :  48 th element ...drift ........ done\n",
      "    :  49 th element ...drift ........ done\n",
      "    :  50 th element ...quad ........ done\n",
      "    :  51 th element ...drift ........ done\n",
      "    :  52 th element ...drift ........ done\n",
      "    :  53 th element ...drift ........ done\n",
      "    :  54 th element ...quad ........ done\n",
      "    :  55 th element ...drift ........ done\n",
      "    :  56 th element ...drift ........ done\n",
      "    :  57 th element ...drift ........ done\n",
      "    :  58 th element ...quad ........ done\n",
      "    :  59 th element ...drift ........ done\n",
      "    :  60 th element ...drift ........ done\n",
      "    :  61 th element ...dipole ........ done\n",
      "    :  62 th element ...drift ........ done\n",
      "    :  63 th element ...drift ........ done\n",
      "    :  64 th element ...quad ........ done\n",
      "    :  65 th element ...drift ........ done\n",
      "    :  66 th element ...drift ........ done\n",
      "    :  67 th element ...drift ........ done\n",
      "    :  68 th element ...drift ........ done\n",
      "    :  69 th element ...quad ........ done\n",
      "    :  70 th element ...drift ........ done\n",
      "    :  71 th element ...drift ........ done\n",
      "    :  72 th element ...multipole ........ done\n",
      "    :  73 th element ...drift ........ done\n",
      "    :  74 th element ...drift ........ done\n",
      "    :  75 th element ...drift ........ done\n",
      "    :  76 th element ...drift ........ done\n",
      "    :  77 th element ...drift ........ done\n",
      "    :  78 th element ...multipole ........ done\n",
      "    :  79 th element ...drift ........ done\n",
      "    :  80 th element ...drift ........ done\n",
      "    :  81 th element ...quad ........ done\n",
      "    :  82 th element ...drift ........ done\n",
      "    :  83 th element ...drift ........ done\n",
      "    :  84 th element ...multipole ........ done\n",
      "    :  85 th element ...drift ........ done\n",
      "    :  86 th element ...drift ........ done\n",
      "    :  87 th element ...drift ........ done\n",
      "    :  88 th element ...drift ........ done\n",
      "    :  89 th element ...drift ........ done\n",
      "    :  90 th element ...multipole ........ done\n",
      "    :  91 th element ...drift ........ done\n",
      "    :  92 th element ...drift ........ done\n",
      "    :  93 th element ...quad ........ done\n",
      "    :  94 th element ...drift ........ done\n",
      "    :  95 th element ...drift ........ done\n",
      "    :  96 th element ...drift ........ done\n",
      "    :  97 th element ...drift ........ done\n",
      "    :  98 th element ...quad ........ done\n",
      "    :  99 th element ...drift ........ done\n",
      "    :  100 th element ...drift ........ done\n",
      "    :  101 th element ...dipole ........ done\n",
      "    :  102 th element ...drift ........ done\n",
      "    :  103 th element ...drift ........ done\n",
      "    :  104 th element ...quad ........ done\n",
      "    :  105 th element ...drift ........ done\n",
      "    :  106 th element ...drift ........ done\n",
      "    :  107 th element ...drift ........ done\n",
      "    :  108 th element ...quad ........ done\n",
      "    :  109 th element ...drift ........ done\n",
      "    :  110 th element ...drift ........ done\n",
      "    :  111 th element ...drift ........ done\n",
      "    :  112 th element ...quad ........ done\n",
      "    :  113 th element ...drift ........ done\n",
      "    :  114 th element ...drift ........ done\n",
      "    :  115 th element ...multipole ........ done\n",
      "    :  116 th element ...drift ........ done\n",
      "    :  117 th element ...drift ........ done\n",
      "    :  118 th element ...quad ........ done\n",
      "    :  119 th element ...drift ........ done\n",
      "    :  120 th element ...drift ........ done\n",
      "    :  121 th element ...drift ........ done\n",
      "    :  122 th element ...drift ........ done\n",
      "    :  123 th element ...dipole ........ done\n",
      "    :  124 th element ...drift ........ done\n",
      "    :  125 th element ...drift ........ done\n",
      "    :  126 th element ...drift ........ done\n",
      "    :  127 th element ...drift ........ done\n",
      "    :  128 th element ...quad ........ done\n",
      "    :  129 th element ...drift ........ done\n",
      "    :  130 th element ...drift ........ done\n",
      "    :  131 th element ...multipole ........ done\n",
      "    :  132 th element ...drift ........ done\n",
      "    :  133 th element ...drift ........ done\n",
      "    :  134 th element ...quad ........ done\n",
      "    :  135 th element ...drift ........ done\n",
      "    :  136 th element ...drift ........ done\n",
      "    :  137 th element ...multipole ........ done\n",
      "    :  138 th element ...drift ........ done\n",
      "    :  139 th element ...drift ........ done\n",
      "    :  140 th element ...quad ........ done\n",
      "    :  141 th element ...drift ........ done\n",
      "    :  142 th element ...drift ........ done\n",
      "    :  143 th element ...drift ........ done\n",
      "    :  144 th element ...drift ........ done\n",
      "    :  145 th element ...dipole ........ done\n",
      "    :  146 th element ...drift ........ done\n",
      "    :  147 th element ...drift ........ done\n",
      "    :  148 th element ...drift ........ done\n",
      "    :  149 th element ...quad ........ done\n",
      "    :  150 th element ...drift ........ done\n",
      "    :  151 th element ...quad ........ done\n",
      "    :  152 th element ...drift ........ done\n",
      "    :  153 th element ...quad ........ done\n",
      "    :  154 th element ...drift ........ done\n",
      "    :  155 th element ...drift ........ done\n",
      "    :  156 th element ...drift ........ done\n",
      "    :  157 th element ...drift ........ done\n",
      "    :  158 th element ...drift ........ done\n",
      "    :  159 th element ...drift ........ done\n",
      "    :  160 th element ...drift ........ done\n",
      "    :  161 th element ...drift ........ done\n",
      "    :  162 th element ...drift ........ done\n",
      "    :  163 th element ...drift ........ done\n",
      "    :  164 th element ...drift ........ done\n",
      "    :  165 th element ...drift ........ done\n",
      "    :  166 th element ...drift ........ done\n",
      "    :  167 th element ...drift ........ done\n",
      "    :  168 th element ...drift ........ done\n",
      "    :  169 th element ...drift ........ done\n",
      "    :  170 th element ...drift ........ done\n",
      "    :  171 th element ...drift ........ done\n",
      "    :  172 th element ...drift ........ done\n",
      "    :  173 th element ...drift ........ done\n",
      "    :  174 th element ...drift ........ done\n",
      "    :  175 th element ...drift ........ done\n",
      "    :  176 th element ...quad ........ done\n",
      "    :  177 th element ...drift ........ done\n",
      "    :  178 th element ...quad ........ done\n",
      "    :  179 th element ...drift ........ done\n",
      "    :  180 th element ...quad ........ done\n",
      "    :  181 th element ...drift ........ done\n",
      "    :  182 th element ...drift ........ done\n",
      "    :  183 th element ...drift ........ done\n",
      "    :  184 th element ...dipole ........ done\n",
      "    :  185 th element ...drift ........ done\n",
      "    :  186 th element ...drift ........ done\n",
      "    :  187 th element ...drift ........ done\n",
      "    :  188 th element ...drift ........ done\n",
      "    :  189 th element ...quad ........ done\n"
     ]
    },
    {
     "name": "stdout",
     "output_type": "stream",
     "text": [
      "    :  190 th element ...drift ........ done\n",
      "    :  191 th element ...quad ........ done\n",
      "    :  192 th element ...drift ........ done\n",
      "    :  193 th element ...drift ........ done\n",
      "    :  194 th element ...drift ........ done\n",
      "    :  195 th element ...drift ........ done\n",
      "    :  196 th element ...drift ........ done\n",
      "    :  197 th element ...multipole ........ done\n",
      "    :  198 th element ...drift ........ done\n",
      "    :  199 th element ...drift ........ done\n",
      "    :  200 th element ...drift ........ done\n",
      "    :  201 th element ...drift ........ done\n",
      "    :  202 th element ...quad ........ done\n",
      "    :  203 th element ...drift ........ done\n",
      "    :  204 th element ...quad ........ done\n",
      "    :  205 th element ...drift ........ done\n",
      "    :  206 th element ...drift ........ done\n",
      "    :  207 th element ...quad ........ done\n",
      "    :  208 th element ...drift ........ done\n",
      "    :  209 th element ...quad ........ done\n",
      "    :  210 th element ...drift ........ done\n",
      "    :  211 th element ...drift ........ done\n",
      "    :  212 th element ...drift ........ done\n",
      "    :  213 th element ...drift ........ done\n",
      "    :  214 th element ...multipole ........ done\n",
      "    :  215 th element ...drift ........ done\n",
      "    :  216 th element ...drift ........ done\n",
      "    :  217 th element ...drift ........ done\n",
      "    :  218 th element ...drift ........ done\n",
      "    :  219 th element ...drift ........ done\n",
      "    :  220 th element ...quad ........ done\n",
      "    :  221 th element ...drift ........ done\n",
      "    :  222 th element ...quad ........ done\n",
      "    :  223 th element ...drift ........ done\n",
      "    :  224 th element ...drift ........ done\n",
      "    :  225 th element ...drift ........ done\n",
      "    :  226 th element ...drift ........ done\n",
      "    :  227 th element ...dipole ........ done\n",
      "    :  228 th element ...drift ........ done\n",
      "    :  229 th element ...drift ........ done\n",
      "    :  230 th element ...drift ........ done\n",
      "    :  231 th element ...quad ........ done\n",
      "    :  232 th element ...drift ........ done\n",
      "    :  233 th element ...quad ........ done\n",
      "    :  234 th element ...drift ........ done\n",
      "    :  235 th element ...quad ........ done\n",
      "    :  236 th element ...drift ........ done\n",
      "    :  237 th element ...drift ........ done\n",
      "    :  238 th element ...write_raw_ptcl ........ done\n",
      "    :  239 th element ...-8 ........ done\n"
     ]
    }
   ],
   "source": [
    "beam, lattice = impactIO.readInputFile(input_fname)"
   ]
  },
  {
   "cell_type": "code",
   "execution_count": 5,
   "metadata": {},
   "outputs": [
    {
     "name": "stdout",
     "output_type": "stream",
     "text": [
      " distribution_type: 'ReadFile'\n",
      "              betz: 134909977206872.31\n",
      "              alfz: 0.0\n",
      "             emitz: 1.187685961430756e-10\n",
      "            scalez: 1.0\n",
      "           scalepz: 1.0\n",
      "           offsetz: 0.0\n",
      "          offsetpz: 0.0\n",
      "              betx: 1.90650539547772\n",
      "              alfx: 1.4082261070868625\n",
      "             emitx: 1.460964633548756e-07\n",
      "            scalex: 1.0\n",
      "           scalepx: 1.0\n",
      "           offsetx: 0.0\n",
      "          offsetpx: 0.0\n",
      "              bety: 1.90650539547772\n",
      "              alfy: 1.4082261070868625\n",
      "             emity: 1.460964633548756e-07\n",
      "            scaley: 1.0\n",
      "           scalepy: 1.0\n",
      "           offsety: 0.0\n",
      "          offsetpy: 0.0\n"
     ]
    }
   ],
   "source": [
    "print(beam.distribution)"
   ]
  },
  {
   "cell_type": "markdown",
   "metadata": {},
   "source": [
    "### writeInputFile"
   ]
  },
  {
   "cell_type": "code",
   "execution_count": 8,
   "metadata": {},
   "outputs": [],
   "source": [
    "beamStr = impactIO._beam2str(beam)"
   ]
  },
  {
   "cell_type": "code",
   "execution_count": 9,
   "metadata": {},
   "outputs": [
    {
     "name": "stdout",
     "output_type": "stream",
     "text": [
      "['0.0004113']\n"
     ]
    }
   ],
   "source": [
    "print(beamStr[5])"
   ]
  },
  {
   "cell_type": "code",
   "execution_count": 10,
   "metadata": {},
   "outputs": [
    {
     "data": {
      "text/plain": [
       "['0.0004113']"
      ]
     },
     "execution_count": 10,
     "metadata": {},
     "output_type": "execute_result"
    }
   ],
   "source": [
    "beam.multi_charge.current"
   ]
  },
  {
   "cell_type": "code",
   "execution_count": 14,
   "metadata": {},
   "outputs": [],
   "source": [
    "impactIO.writeInputFile(beam,lattice,fname='test.in')"
   ]
  }
 ],
 "metadata": {
  "kernelspec": {
   "display_name": "Python 3",
   "language": "python",
   "name": "python3"
  },
  "language_info": {
   "codemirror_mode": {
    "name": "ipython",
    "version": 3
   },
   "file_extension": ".py",
   "mimetype": "text/x-python",
   "name": "python",
   "nbconvert_exporter": "python",
   "pygments_lexer": "ipython3",
   "version": "3.6.5"
  }
 },
 "nbformat": 4,
 "nbformat_minor": 2
}
