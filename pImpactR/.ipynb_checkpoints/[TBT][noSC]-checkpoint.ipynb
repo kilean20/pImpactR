{
 "cells": [
  {
   "cell_type": "code",
   "execution_count": 1,
   "metadata": {},
   "outputs": [],
   "source": [
    "import numpy as np\n",
    "import data\n",
    "import impactIO\n",
    "from copy import deepcopy as copy\n",
    "input_fname = 'test_IOTA.in'"
   ]
  },
  {
   "cell_type": "markdown",
   "metadata": {},
   "source": [
    "### 1. read InputFile"
   ]
  },
  {
   "cell_type": "code",
   "execution_count": 2,
   "metadata": {
    "scrolled": false
   },
   "outputs": [
    {
     "name": "stdout",
     "output_type": "stream",
     "text": [
      "reading ImpactZ input file (\u001b[92mtest_IOTA.in\u001b[0m)\n",
      "  : mpi task info .............................done\n",
      "  : simulation control parameters .............done\n",
      "  : space charge field solver, mesh info ......done\n",
      "  : dist-type,restart,subcycle,#of state ......done\n",
      "  : Multiple Charge State info ................done\n",
      "  : particle distribution info ................done\n",
      "  : beam reference orbit info .................done\n",
      "  : converting impact dist to twiss param......done\n",
      "  : lattice info ..............................done\n"
     ]
    }
   ],
   "source": [
    "beam, lattice = impactIO.readInputFile(input_fname)"
   ]
  },
  {
   "cell_type": "code",
   "execution_count": 3,
   "metadata": {},
   "outputs": [
    {
     "data": {
      "text/plain": [
       "\n",
       "         nCore_y: 32\n",
       "         nCore_z: 32\n",
       "             dim: 6\n",
       "     n_particles: 1024000\n",
       "      integrator: 'Linear'\n",
       "     error_study: False\n",
       " standard_output: 'standard output'\n",
       "            mesh: 'mesh' class\n",
       "         restart: False\n",
       "        subcycle: False\n",
       "    multi_charge: 'multi_charge' class\n",
       "         current: 0.0004113 [A]\n",
       "  kinetic_energy: 2500000.0 [eV]\n",
       "            mass: 938272045.0 [eV]\n",
       "          charge: 1.0 [e]\n",
       "       frequency: 30000000.0 [Hz]\n",
       "           phase: 0.0 [rad]\n",
       "    distribution: 'distribution' class"
      ]
     },
     "execution_count": 3,
     "metadata": {},
     "output_type": "execute_result"
    }
   ],
   "source": [
    "beam"
   ]
  },
  {
   "cell_type": "markdown",
   "metadata": {},
   "source": [
    "### 2. generate particles"
   ]
  },
  {
   "cell_type": "code",
   "execution_count": 4,
   "metadata": {
    "scrolled": false
   },
   "outputs": [],
   "source": [
    "testP = 0.0\n",
    "sig = 0.001\n",
    "k=0\n",
    "q_m = beam.multi_charge.q_m[0]\n",
    "pTest = []\n",
    "nx = 4\n",
    "for i in range(-nx,nx+1):\n",
    "    for j in range(-nx,nx+1):\n",
    "        x=i*sig/nx\n",
    "        y=j*sig/nx\n",
    "        if x**2+y**2<=sig**2 :\n",
    "            k+=1\n",
    "            pTest.append([x,0.0,y,0.0,0.0,0.0,q_m,0.0,k])\n",
    "\n",
    "pTest = np.array(pTest)\n",
    "ke = beam.kinetic_energy\n",
    "mass = beam.mass\n",
    "freq = beam.frequency\n",
    "impactIO.writeParticleData(pTest, ke, mass, freq)"
   ]
  },
  {
   "cell_type": "markdown",
   "metadata": {},
   "source": [
    "### 3. run"
   ]
  },
  {
   "cell_type": "code",
   "execution_count": 5,
   "metadata": {},
   "outputs": [],
   "source": [
    "for i in range(len(lattice)):\n",
    "    if 'length' in lattice[i].keys():\n",
    "        lattice[i].n_sckick = int(lattice[i].length*20)\n",
    "        if lattice[i].type in ['nonlinear_insert','dipole']:\n",
    "            lattice[i].n_map = 5\n",
    "        else:\n",
    "            lattice[i].n_map = 2"
   ]
  },
  {
   "cell_type": "code",
   "execution_count": 6,
   "metadata": {},
   "outputs": [
    {
     "name": "stdout",
     "output_type": "stream",
     "text": [
      "input error <- sum(beam.multi_charge.n_particles) not qual to beam.n_particles\n",
      "  ... enforcing  beam.multi_charge.n_particles[0] to beam.n_particles\n",
      "input error <- beam.multi_charge.current[0] not qual to beam.current\n",
      "  ... enforcing  beam.multi_charge.current[0] to beam.current\n"
     ]
    },
    {
     "data": {
      "text/plain": [
       "0"
      ]
     },
     "execution_count": 6,
     "metadata": {},
     "output_type": "execute_result"
    }
   ],
   "source": [
    "beam.current = 0.0\n",
    "beam.nCore_y = 2\n",
    "beam.nCore_z = 4\n",
    "beam.n_particles = len(pTest)\n",
    "for i in range(len(lattice)):\n",
    "    if lattice[i].type == 'loop_through_lattice':\n",
    "        lattice[i].turns = 4\n",
    "    if lattice[i].type == 'nonlinear_insert':\n",
    "        break\n",
    "\n",
    "lattice[i].strength_t=0.0\n",
    "# TBT = impact.getElem('TBToutput_single_particle')\n",
    "TBT = impactIO.getElem('TBToutput_multi_particles')\n",
    "TBT.file_id = 0\n",
    "lattice.insert(i,TBT)\n",
    "impactIO.writeInputFile(beam,lattice)\n",
    "impactIO.run(8)"
   ]
  },
  {
   "cell_type": "code",
   "execution_count": 7,
   "metadata": {},
   "outputs": [],
   "source": [
    "import readTBT"
   ]
  },
  {
   "cell_type": "code",
   "execution_count": 8,
   "metadata": {},
   "outputs": [],
   "source": [
    "nturn,npt = readTBT.get_tbtsize(0)"
   ]
  },
  {
   "cell_type": "code",
   "execution_count": 9,
   "metadata": {},
   "outputs": [],
   "source": [
    "#TBTdata = readTBT.get_tbtdata(0,nturn,npt)"
   ]
  },
  {
   "cell_type": "code",
   "execution_count": 13,
   "metadata": {},
   "outputs": [
    {
     "data": {
      "text/plain": [
       "49"
      ]
     },
     "execution_count": 13,
     "metadata": {},
     "output_type": "execute_result"
    }
   ],
   "source": [
    "len(pTest)"
   ]
  },
  {
   "cell_type": "code",
   "execution_count": null,
   "metadata": {},
   "outputs": [],
   "source": []
  }
 ],
 "metadata": {
  "kernelspec": {
   "display_name": "Python 3",
   "language": "python",
   "name": "python3"
  },
  "language_info": {
   "codemirror_mode": {
    "name": "ipython",
    "version": 3
   },
   "file_extension": ".py",
   "mimetype": "text/x-python",
   "name": "python",
   "nbconvert_exporter": "python",
   "pygments_lexer": "ipython3",
   "version": "3.6.5"
  }
 },
 "nbformat": 4,
 "nbformat_minor": 2
}
