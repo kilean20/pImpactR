{
 "cells": [
  {
   "cell_type": "code",
   "execution_count": null,
   "metadata": {},
   "outputs": [],
   "source": [
    "import numpy as np\n",
    "import data\n",
    "import impactIO\n",
    "from copy import deepcopy as copy\n",
    "input_fname = 'test_IOTA.in'\n",
    "np.set_printoptions(precision=3)"
   ]
  },
  {
   "cell_type": "markdown",
   "metadata": {},
   "source": [
    "# Prepare Beam and Lattice"
   ]
  },
  {
   "cell_type": "code",
   "execution_count": null,
   "metadata": {
    "scrolled": true
   },
   "outputs": [],
   "source": [
    "beam, lattice0 = impactIO.readInputFile(input_fname)"
   ]
  },
  {
   "cell_type": "code",
   "execution_count": null,
   "metadata": {},
   "outputs": [],
   "source": [
    "for i in range(len(lattice0)):\n",
    "    if lattice0[i].type == 'nonlinear_insert':\n",
    "        break\n",
    "lattice0[i]"
   ]
  },
  {
   "cell_type": "markdown",
   "metadata": {},
   "source": [
    "### generate particles"
   ]
  },
  {
   "cell_type": "markdown",
   "metadata": {},
   "source": [
    "##### nonlinear lattice matched KV, high currret"
   ]
  },
  {
   "cell_type": "code",
   "execution_count": null,
   "metadata": {},
   "outputs": [],
   "source": [
    "beamtmp = copy(beam)\n",
    "beamtmp.nCore_y=2\n",
    "beamtmp.nCore_z=1\n",
    "beamtmp.n_particles=2**13\n",
    "beamtmp.current = 0.01  \n",
    "distribution = beamtmp.distribution\n",
    "distribution.NL_t = 0.4\n",
    "distribution.NL_c = 0.01\n",
    "distribution.betPx = -2.0*distribution.alfx\n",
    "distribution.distribution_type = 'IOTA_Waterbag'\n",
    "latticetmp = [impactIO.getElem('loop_through_lattice'),\n",
    "              impactIO.getElem('write_raw_ptcl')]\n",
    "\n",
    "impactIO.writeInputFile(beamtmp,latticetmp);\n",
    "impactIO.run(2)"
   ]
  },
  {
   "cell_type": "code",
   "execution_count": null,
   "metadata": {},
   "outputs": [],
   "source": [
    "fid = latticetmp[1].file_id\n",
    "ke = beamtmp.kinetic_energy\n",
    "mass = beamtmp.mass\n",
    "freq = beamtmp.frequency\n",
    "pData = impactIO.readParticleData(fid,ke,mass,freq)\n",
    "print(pData.shape)"
   ]
  },
  {
   "cell_type": "markdown",
   "metadata": {},
   "source": [
    "##### test particle from waterbag, zero current"
   ]
  },
  {
   "cell_type": "code",
   "execution_count": null,
   "metadata": {},
   "outputs": [],
   "source": [
    "beamtmp = copy(beam)\n",
    "beamtmp.current = 0.0\n",
    "beamtmp.n_particles=8\n",
    "distribution.distribution_type = 'Waterbag'\n",
    "latticetmp = [impactIO.getElem('loop_through_lattice'),\n",
    "              impactIO.getElem('write_raw_ptcl')]\n",
    "\n",
    "impactIO.writeInputFile(beamtmp,latticetmp);\n",
    "impactIO.run()\n",
    "testP = impactIO.readParticleData(fid,ke,mass,freq)"
   ]
  },
  {
   "cell_type": "markdown",
   "metadata": {},
   "source": [
    "##### combine particles"
   ]
  },
  {
   "cell_type": "code",
   "execution_count": null,
   "metadata": {},
   "outputs": [],
   "source": [
    "pData[:,8] = pData[:,8] + 8\n",
    "pData = np.concatenate((pTest,pData),axis=0)\n",
    "impactIO.writeParticleData(pData, ke, mass, freq)"
   ]
  },
  {
   "cell_type": "code",
   "execution_count": null,
   "metadata": {},
   "outputs": [],
   "source": [
    "### generate particles"
   ]
  },
  {
   "cell_type": "code",
   "execution_count": null,
   "metadata": {},
   "outputs": [],
   "source": [
    "beam.nCore_y=1\n",
    "beam.nCore_z=1\n",
    "beam.n_particles=len(pData)\n",
    "beam.current=0.0\n",
    "lattice = [impactIO.getElem('loop_through_lattice'),\n",
    "           impactIO.getElem('write_raw_ptcl'),\n",
    "           0,\n",
    "           impactIO.getElem('write_raw_ptcl'),\n",
    "           0,\n",
    "           impactIO.getElem('write_raw_ptcl')]\n",
    "lattice[0].nturn = 1\n",
    "lattice[1].file_id = 1001\n",
    "lattice[3].file_id = 1002\n",
    "lattice[5].file_id = 1003\n",
    "\n",
    "\n",
    "ke = beam.kinetic_energy\n",
    "mass = beam.mass\n",
    "freq = beam.frequency"
   ]
  },
  {
   "cell_type": "markdown",
   "metadata": {},
   "source": [
    "# 1. Drift"
   ]
  },
  {
   "cell_type": "code",
   "execution_count": null,
   "metadata": {},
   "outputs": [],
   "source": [
    "elemF = impactIO.getElem('drift')\n",
    "elemF.length = 0.02\n",
    "elemF.n_sckick = 20\n",
    "elemF.n_map = 1\n",
    "\n",
    "elemB = copy(elemF)\n",
    "elemB.length =-elemF.length\n",
    "\n",
    "lattice[2] = elemF\n",
    "lattice[4] = elemB\n",
    "\n",
    "impactIO.writeInputFile(beam,lattice);\n",
    "impactIO.run()"
   ]
  },
  {
   "cell_type": "code",
   "execution_count": null,
   "metadata": {
    "scrolled": false
   },
   "outputs": [],
   "source": [
    "pData0 = impactIO.readParticleData(1001,ke,mass,freq)\n",
    "pData1 = impactIO.readParticleData(1002,ke,mass,freq)\n",
    "pData2 = impactIO.readParticleData(1003,ke,mass,freq)"
   ]
  },
  {
   "cell_type": "code",
   "execution_count": null,
   "metadata": {},
   "outputs": [],
   "source": [
    "print(pData0[:8,:])"
   ]
  },
  {
   "cell_type": "code",
   "execution_count": null,
   "metadata": {},
   "outputs": [],
   "source": [
    "print(pData1[:8,:])"
   ]
  },
  {
   "cell_type": "code",
   "execution_count": null,
   "metadata": {},
   "outputs": [],
   "source": [
    "print(pData2[:8,:])"
   ]
  },
  {
   "cell_type": "markdown",
   "metadata": {},
   "source": [
    "# 2. Quad"
   ]
  },
  {
   "cell_type": "code",
   "execution_count": null,
   "metadata": {},
   "outputs": [],
   "source": [
    "elemF = impactIO.getElem('quad')\n",
    "elemF.length = 0.02\n",
    "elemF.n_sckick = 20\n",
    "elemF.n_map = 1\n",
    "elemF.B1 = 15.0\n",
    "\n",
    "elemB = copy(elemF)\n",
    "elemB.length =-elemF.length\n",
    "\n",
    "lattice[2] = elemF\n",
    "lattice[4] = elemB\n",
    "\n",
    "impactIO.writeInputFile(beam,lattice);\n",
    "impactIO.run()"
   ]
  },
  {
   "cell_type": "code",
   "execution_count": null,
   "metadata": {
    "scrolled": true
   },
   "outputs": [],
   "source": [
    "pData0 = impactIO.readParticleData(1001,ke,mass,freq)\n",
    "pData1 = impactIO.readParticleData(1002,ke,mass,freq)\n",
    "pData2 = impactIO.readParticleData(1003,ke,mass,freq)\n",
    "print(pData0[:,:6]-pData2[:,:6])"
   ]
  },
  {
   "cell_type": "markdown",
   "metadata": {},
   "source": [
    "# 3. Sextupole"
   ]
  },
  {
   "cell_type": "code",
   "execution_count": null,
   "metadata": {},
   "outputs": [],
   "source": [
    "for i in range(len(lattice0)):\n",
    "    if lattice0[i].type == 'multipole':\n",
    "        break\n",
    "lattice0[i]"
   ]
  },
  {
   "cell_type": "code",
   "execution_count": null,
   "metadata": {},
   "outputs": [],
   "source": [
    "elemF = lattice0[i]\n",
    "elemF.strength = 10.0\n",
    "\n",
    "elemB = copy(elemF)\n",
    "elemB.length =-elemF.length\n",
    "\n",
    "lattice[2] = elemF\n",
    "lattice[4] = elemB\n",
    "\n",
    "impactIO.writeInputFile(beam,lattice);\n",
    "impactIO.run()"
   ]
  },
  {
   "cell_type": "code",
   "execution_count": null,
   "metadata": {
    "scrolled": true
   },
   "outputs": [],
   "source": [
    "pData0 = impactIO.readParticleData(1001,ke,mass,freq)\n",
    "pData1 = impactIO.readParticleData(1002,ke,mass,freq)\n",
    "pData2 = impactIO.readParticleData(1003,ke,mass,freq)\n",
    "print(pData0[:,:6]-pData2[:,:6])"
   ]
  },
  {
   "cell_type": "code",
   "execution_count": null,
   "metadata": {},
   "outputs": [],
   "source": [
    "print(pData0[:,:6])"
   ]
  },
  {
   "cell_type": "code",
   "execution_count": null,
   "metadata": {},
   "outputs": [],
   "source": [
    "print(pData1[:,:6])"
   ]
  },
  {
   "cell_type": "code",
   "execution_count": null,
   "metadata": {
    "scrolled": false
   },
   "outputs": [],
   "source": [
    "print(pData2[:,:6])"
   ]
  },
  {
   "cell_type": "markdown",
   "metadata": {},
   "source": [
    "# 4. Dipole"
   ]
  },
  {
   "cell_type": "code",
   "execution_count": null,
   "metadata": {
    "scrolled": false
   },
   "outputs": [],
   "source": [
    "for i in range(len(lattice0)):\n",
    "    if lattice0[i].type == 'dipole':\n",
    "        break\n",
    "lattice0[i]"
   ]
  },
  {
   "cell_type": "markdown",
   "metadata": {},
   "source": [
    "### without fringe field"
   ]
  },
  {
   "cell_type": "markdown",
   "metadata": {},
   "source": [
    "##### negative length "
   ]
  },
  {
   "cell_type": "code",
   "execution_count": null,
   "metadata": {},
   "outputs": [],
   "source": [
    "elemF = copy(lattice0[i])\n",
    "elemF.fringe_field_integration = 0.0\n",
    "\n",
    "elemB = copy(elemF)\n",
    "elemB.length = -elemF.length\n",
    "\n",
    "lattice[2] = elemF\n",
    "lattice[4] = elemB\n",
    "\n",
    "impactIO.writeInputFile(beam,lattice);\n",
    "impactIO.run()"
   ]
  },
  {
   "cell_type": "code",
   "execution_count": null,
   "metadata": {
    "scrolled": true
   },
   "outputs": [],
   "source": [
    "pData0 = impactIO.readParticleData(1001,ke,mass,freq)\n",
    "pData1 = impactIO.readParticleData(1002,ke,mass,freq)\n",
    "pData2 = impactIO.readParticleData(1003,ke,mass,freq)\n",
    "print(pData0[:,:6]-pData2[:,:6])"
   ]
  },
  {
   "cell_type": "markdown",
   "metadata": {},
   "source": [
    "### negative length and bending angle"
   ]
  },
  {
   "cell_type": "code",
   "execution_count": null,
   "metadata": {},
   "outputs": [],
   "source": [
    "elemB.bending_angle = -elemF.bending_angle\n",
    "impactIO.writeInputFile(beam,lattice);\n",
    "impactIO.run()"
   ]
  },
  {
   "cell_type": "code",
   "execution_count": null,
   "metadata": {
    "scrolled": true
   },
   "outputs": [],
   "source": [
    "pData0 = impactIO.readParticleData(1001,ke,mass,freq)\n",
    "pData1 = impactIO.readParticleData(1002,ke,mass,freq)\n",
    "pData2 = impactIO.readParticleData(1003,ke,mass,freq)\n",
    "print(pData0[:,:6]-pData2[:,:6])"
   ]
  },
  {
   "cell_type": "markdown",
   "metadata": {},
   "source": [
    "### with fringe field"
   ]
  },
  {
   "cell_type": "code",
   "execution_count": null,
   "metadata": {},
   "outputs": [],
   "source": [
    "elemF = copy(lattice0[i])\n",
    "\n",
    "elemB = copy(elemF)\n",
    "elemB.length = -elemF.length\n",
    "\n",
    "lattice[2] = elemF\n",
    "lattice[4] = elemB\n",
    "\n",
    "impactIO.writeInputFile(beam,lattice);\n",
    "impactIO.run()"
   ]
  },
  {
   "cell_type": "code",
   "execution_count": null,
   "metadata": {},
   "outputs": [],
   "source": [
    "pData0 = impactIO.readParticleData(1001,ke,mass,freq)\n",
    "pData1 = impactIO.readParticleData(1002,ke,mass,freq)\n",
    "pData2 = impactIO.readParticleData(1003,ke,mass,freq)\n",
    "print(pData0[:,:6]-pData2[:,:6])"
   ]
  },
  {
   "cell_type": "markdown",
   "metadata": {},
   "source": [
    "### negative length and bending angle"
   ]
  },
  {
   "cell_type": "code",
   "execution_count": null,
   "metadata": {},
   "outputs": [],
   "source": [
    "elemB.bending_angle = -elemF.bending_angle\n",
    "impactIO.writeInputFile(beam,lattice);\n",
    "impactIO.run()"
   ]
  },
  {
   "cell_type": "code",
   "execution_count": null,
   "metadata": {
    "scrolled": true
   },
   "outputs": [],
   "source": [
    "pData0 = impactIO.readParticleData(1001,ke,mass,freq)\n",
    "pData1 = impactIO.readParticleData(1002,ke,mass,freq)\n",
    "pData2 = impactIO.readParticleData(1003,ke,mass,freq)\n",
    "print(pData0[:,:6]-pData2[:,:6])"
   ]
  },
  {
   "cell_type": "markdown",
   "metadata": {},
   "source": [
    "# 5. Nonlinear Insert"
   ]
  },
  {
   "cell_type": "code",
   "execution_count": null,
   "metadata": {},
   "outputs": [],
   "source": [
    "for i in range(len(lattice0)):\n",
    "    if lattice0[i].type == 'nonlinear_insert':\n",
    "        break\n",
    "lattice0[i]"
   ]
  },
  {
   "cell_type": "code",
   "execution_count": null,
   "metadata": {},
   "outputs": [],
   "source": [
    "elemF = lattice0[i]\n",
    "\n",
    "elemB = copy(elemF)\n",
    "elemB.length =-elemF.length\n",
    "\n",
    "lattice[2] = elemF\n",
    "lattice[4] = elemB\n",
    "\n",
    "impactIO.writeInputFile(beam,lattice);\n",
    "impactIO.run()"
   ]
  },
  {
   "cell_type": "code",
   "execution_count": null,
   "metadata": {
    "scrolled": true
   },
   "outputs": [],
   "source": [
    "pData0 = impactIO.readParticleData(1001,ke,mass,freq)\n",
    "pData1 = impactIO.readParticleData(1002,ke,mass,freq)\n",
    "pData2 = impactIO.readParticleData(1003,ke,mass,freq)\n",
    "print(pData0[:,:6]-pData2[:,:6])"
   ]
  }
 ],
 "metadata": {
  "kernelspec": {
   "display_name": "Python 3",
   "language": "python",
   "name": "python3"
  },
  "language_info": {
   "codemirror_mode": {
    "name": "ipython",
    "version": 3
   },
   "file_extension": ".py",
   "mimetype": "text/x-python",
   "name": "python",
   "nbconvert_exporter": "python",
   "pygments_lexer": "ipython3",
   "version": "3.6.5"
  }
 },
 "nbformat": 4,
 "nbformat_minor": 2
}
