{
 "cells": [
  {
   "cell_type": "code",
   "execution_count": 1,
   "metadata": {},
   "outputs": [],
   "source": [
    "import numpy as np\n",
    "import data\n",
    "import impactIO\n",
    "from copy import deepcopy as copy\n",
    "input_fname = 'test_IOTA.in'\n",
    "np.set_printoptions(precision=3)"
   ]
  },
  {
   "cell_type": "markdown",
   "metadata": {},
   "source": [
    "# Prepare Beam and Lattice"
   ]
  },
  {
   "cell_type": "code",
   "execution_count": 2,
   "metadata": {
    "scrolled": true
   },
   "outputs": [
    {
     "name": "stdout",
     "output_type": "stream",
     "text": [
      "reading ImpactZ input file (\u001b[92mtest_IOTA.in\u001b[0m)\n",
      "  : mpi task info .............................done\n",
      "  : simulation control parameters .............done\n",
      "  : space charge field solver, mesh info ......done\n",
      "  : dist-type,restart,subcycle,#of state ......done\n",
      "  : Multiple Charge State info ................done\n",
      "  : particle distribution info ................done\n",
      "  : beam reference orbit info .................done\n",
      "  : converting impact dist to twiss param......done\n",
      "  : lattice info ..............................done\n"
     ]
    }
   ],
   "source": [
    "beam, lattice0 = impactIO.readInputFile(input_fname)"
   ]
  },
  {
   "cell_type": "code",
   "execution_count": 3,
   "metadata": {},
   "outputs": [],
   "source": [
    "beam.nCore_y=1\n",
    "beam.nCore_z=1\n",
    "beam.n_particles=8\n",
    "beam.current=0.0\n",
    "dist = beam.distribution\n",
    "dist.distribution_type = 'Waterbag'\n",
    "lattice = [impactIO.getElem('loop_through_lattice'),\n",
    "           impactIO.getElem('write_raw_ptcl'),\n",
    "           0,\n",
    "           impactIO.getElem('write_raw_ptcl'),\n",
    "           0,\n",
    "           impactIO.getElem('write_raw_ptcl')]\n",
    "lattice[0].nturn = 1\n",
    "lattice[1].file_id = 1001\n",
    "lattice[3].file_id = 1002\n",
    "lattice[5].file_id = 1003\n",
    "\n",
    "\n",
    "ke = beam.kinetic_energy\n",
    "mass = beam.mass\n",
    "freq = beam.frequency"
   ]
  },
  {
   "cell_type": "markdown",
   "metadata": {},
   "source": [
    "# 1. Drift"
   ]
  },
  {
   "cell_type": "code",
   "execution_count": 4,
   "metadata": {},
   "outputs": [
    {
     "name": "stdout",
     "output_type": "stream",
     "text": [
      "input error <- sum(beam.multi_charge.n_particles) not qual to beam.n_particles\n",
      "  ... enforcing  beam.multi_charge.n_particles[0] to beam.n_particles\n",
      "input error <- beam.multi_charge.current[0] not qual to beam.current\n",
      "  ... enforcing  beam.multi_charge.current[0] to beam.current\n"
     ]
    },
    {
     "data": {
      "text/plain": [
       "0"
      ]
     },
     "execution_count": 4,
     "metadata": {},
     "output_type": "execute_result"
    }
   ],
   "source": [
    "elemF = impactIO.getElem('drift')\n",
    "elemF.length = 0.02\n",
    "elemF.n_sckick = 20\n",
    "elemF.n_map = 1\n",
    "\n",
    "elemB = copy(elemF)\n",
    "elemB.length =-elemF.length\n",
    "\n",
    "lattice[2] = elemF\n",
    "lattice[4] = elemB\n",
    "\n",
    "impactIO.writeInputFile(beam,lattice);\n",
    "impactIO.run()"
   ]
  },
  {
   "cell_type": "code",
   "execution_count": 5,
   "metadata": {
    "scrolled": false
   },
   "outputs": [
    {
     "name": "stdout",
     "output_type": "stream",
     "text": [
      "[[0. 0. 0. 0. 0. 0.]\n",
      " [0. 0. 0. 0. 0. 0.]\n",
      " [0. 0. 0. 0. 0. 0.]\n",
      " [0. 0. 0. 0. 0. 0.]\n",
      " [0. 0. 0. 0. 0. 0.]\n",
      " [0. 0. 0. 0. 0. 0.]\n",
      " [0. 0. 0. 0. 0. 0.]\n",
      " [0. 0. 0. 0. 0. 0.]]\n"
     ]
    }
   ],
   "source": [
    "pData0 = impactIO.readParticleData(1001,ke,mass,freq)\n",
    "pData1 = impactIO.readParticleData(1002,ke,mass,freq)\n",
    "pData2 = impactIO.readParticleData(1003,ke,mass,freq)\n",
    "print(pData0[:,:6]-pData2[:,:6])"
   ]
  },
  {
   "cell_type": "markdown",
   "metadata": {},
   "source": [
    "# 2. Quad"
   ]
  },
  {
   "cell_type": "code",
   "execution_count": 6,
   "metadata": {},
   "outputs": [
    {
     "data": {
      "text/plain": [
       "0"
      ]
     },
     "execution_count": 6,
     "metadata": {},
     "output_type": "execute_result"
    }
   ],
   "source": [
    "elemF = impactIO.getElem('quad')\n",
    "elemF.length = 0.02\n",
    "elemF.n_sckick = 20\n",
    "elemF.n_map = 1\n",
    "elemF.B1 = 15.0\n",
    "\n",
    "elemB = copy(elemF)\n",
    "elemB.length =-elemF.length\n",
    "\n",
    "lattice[2] = elemF\n",
    "lattice[4] = elemB\n",
    "\n",
    "impactIO.writeInputFile(beam,lattice);\n",
    "impactIO.run()"
   ]
  },
  {
   "cell_type": "code",
   "execution_count": 7,
   "metadata": {
    "scrolled": true
   },
   "outputs": [
    {
     "name": "stdout",
     "output_type": "stream",
     "text": [
      "[[ 0.000e+00  1.735e-18 -4.770e-18  3.903e-18  0.000e+00  0.000e+00]\n",
      " [ 0.000e+00 -1.301e-18  1.193e-18 -1.843e-18  0.000e+00  0.000e+00]\n",
      " [-8.674e-19 -4.337e-19 -2.819e-18 -1.084e-19  0.000e+00  0.000e+00]\n",
      " [ 0.000e+00  2.711e-19  3.036e-18  1.592e-19  0.000e+00  0.000e+00]\n",
      " [-1.301e-18  6.505e-19 -1.518e-18 -4.120e-18  0.000e+00  0.000e+00]\n",
      " [-8.674e-19  4.770e-18  4.879e-19 -1.409e-18  0.000e+00  0.000e+00]\n",
      " [ 0.000e+00  0.000e+00 -1.952e-18 -4.066e-20  0.000e+00  0.000e+00]\n",
      " [-1.301e-18 -2.602e-18 -4.879e-19  1.030e-18  0.000e+00  0.000e+00]]\n"
     ]
    }
   ],
   "source": [
    "pData0 = impactIO.readParticleData(1001,ke,mass,freq)\n",
    "pData1 = impactIO.readParticleData(1002,ke,mass,freq)\n",
    "pData2 = impactIO.readParticleData(1003,ke,mass,freq)\n",
    "print(pData0[:,:6]-pData2[:,:6])"
   ]
  },
  {
   "cell_type": "markdown",
   "metadata": {},
   "source": [
    "# 3. Sextupole"
   ]
  },
  {
   "cell_type": "code",
   "execution_count": 8,
   "metadata": {},
   "outputs": [
    {
     "data": {
      "text/plain": [
       "\n",
       "    n_sckick: 0 [1]\n",
       "       n_map: 10 [1]\n",
       "     pole_id: 2\n",
       "    strength: 0.0\n",
       "     file_id: 0\n",
       " pipe_radius: 0.15 [m]\n",
       "  misalign_x: 0.0 [m]\n",
       "  misalign_y: 0.0 [m]\n",
       "  rotation_x: 0.0 [rad]\n",
       "  rotation_y: 0.0 [rad]\n",
       "  rotation_z: 0.0 [rad]\n",
       "        type: 'multipole'\n",
       "      length: 0.0 [m]"
      ]
     },
     "execution_count": 8,
     "metadata": {},
     "output_type": "execute_result"
    }
   ],
   "source": [
    "for i in range(len(lattice0)):\n",
    "    if lattice0[i].type == 'multipole':\n",
    "        break\n",
    "lattice0[i]"
   ]
  },
  {
   "cell_type": "code",
   "execution_count": 9,
   "metadata": {},
   "outputs": [
    {
     "data": {
      "text/plain": [
       "0"
      ]
     },
     "execution_count": 9,
     "metadata": {},
     "output_type": "execute_result"
    }
   ],
   "source": [
    "elemF = lattice0[i]\n",
    "elemF.strength = 10.0\n",
    "\n",
    "elemB = copy(elemF)\n",
    "elemB.length =-elemF.length\n",
    "\n",
    "lattice[2] = elemF\n",
    "lattice[4] = elemB\n",
    "\n",
    "impactIO.writeInputFile(beam,lattice);\n",
    "impactIO.run()"
   ]
  },
  {
   "cell_type": "code",
   "execution_count": 10,
   "metadata": {
    "scrolled": true
   },
   "outputs": [
    {
     "name": "stdout",
     "output_type": "stream",
     "text": [
      "[[ 0.000e+00        nan  0.000e+00 -1.126e-06        nan  0.000e+00]\n",
      " [ 0.000e+00        nan  0.000e+00 -5.595e-07        nan  0.000e+00]\n",
      " [ 0.000e+00        nan  0.000e+00 -2.983e-07        nan  0.000e+00]\n",
      " [ 0.000e+00        nan  0.000e+00 -4.635e-07        nan  0.000e+00]\n",
      " [ 0.000e+00        nan  0.000e+00 -5.822e-07        nan  0.000e+00]\n",
      " [ 0.000e+00        nan  0.000e+00  6.988e-08        nan  0.000e+00]\n",
      " [ 0.000e+00        nan  0.000e+00 -5.418e-07        nan  0.000e+00]\n",
      " [ 0.000e+00        nan  0.000e+00  2.668e-07        nan  0.000e+00]]\n"
     ]
    }
   ],
   "source": [
    "pData0 = impactIO.readParticleData(1001,ke,mass,freq)\n",
    "pData1 = impactIO.readParticleData(1002,ke,mass,freq)\n",
    "pData2 = impactIO.readParticleData(1003,ke,mass,freq)\n",
    "print(pData0[:,:6]-pData2[:,:6])"
   ]
  },
  {
   "cell_type": "code",
   "execution_count": 11,
   "metadata": {},
   "outputs": [
    {
     "name": "stdout",
     "output_type": "stream",
     "text": [
      "[[-2.166e-03  2.482e-03 -1.732e-03  1.377e-03 -2.277e+02  8.890e-06]\n",
      " [ 2.207e-03 -2.702e-03  8.449e-04 -5.350e-04  2.163e+02 -2.466e-06]\n",
      " [-9.825e-04 -7.201e-04 -1.012e-03 -8.458e-05  2.194e+01  1.012e-05]\n",
      " [ 1.278e-03  3.541e-04  1.209e-03  2.044e-05 -5.583e+00 -5.433e-06]\n",
      " [-3.145e-03  1.179e-03 -6.171e-04 -1.523e-03  4.057e+01 -4.394e-06]\n",
      " [-1.200e-03  3.158e-03  1.941e-04 -6.571e-04 -1.729e+01  6.502e-06]\n",
      " [-2.730e-03  2.961e-03 -6.616e-04 -2.264e-05  1.036e+02  3.108e-06]\n",
      " [ 3.655e-03 -2.798e-03 -2.433e-04  4.339e-04 -9.411e+01 -1.834e-05]]\n"
     ]
    }
   ],
   "source": [
    "print(pData0[:,:6])"
   ]
  },
  {
   "cell_type": "code",
   "execution_count": 12,
   "metadata": {},
   "outputs": [
    {
     "name": "stdout",
     "output_type": "stream",
     "text": [
      "[[-2.166e-03 -9.998e+00 -1.732e-03  1.378e-03 -2.384e+02  8.890e-06]\n",
      " [ 2.207e-03 -1.000e+01  8.449e-04 -5.347e-04  2.272e+02 -2.466e-06]\n",
      " [-9.825e-04 -1.000e+01 -1.012e-03 -8.443e-05  1.708e+01  1.012e-05]\n",
      " [ 1.278e-03 -1.000e+01  1.209e-03  2.067e-05  7.351e-01 -5.433e-06]\n",
      " [-3.145e-03 -9.999e+00 -6.171e-04 -1.522e-03  2.502e+01 -4.394e-06]\n",
      " [-1.200e-03 -9.997e+00  1.941e-04 -6.571e-04 -2.323e+01  6.502e-06]\n",
      " [-2.730e-03 -9.997e+00 -6.616e-04 -2.237e-05  9.008e+01  3.108e-06]\n",
      " [ 3.655e-03 -1.000e+01 -2.433e-04  4.337e-04 -7.604e+01 -1.834e-05]]\n"
     ]
    }
   ],
   "source": [
    "print(pData1[:,:6])"
   ]
  },
  {
   "cell_type": "code",
   "execution_count": 13,
   "metadata": {
    "scrolled": false
   },
   "outputs": [
    {
     "name": "stdout",
     "output_type": "stream",
     "text": [
      "[[-2.166e-03        nan -1.732e-03  1.378e-03        nan  8.890e-06]\n",
      " [ 2.207e-03        nan  8.449e-04 -5.345e-04        nan -2.466e-06]\n",
      " [-9.825e-04        nan -1.012e-03 -8.428e-05        nan  1.012e-05]\n",
      " [ 1.278e-03        nan  1.209e-03  2.090e-05        nan -5.433e-06]\n",
      " [-3.145e-03        nan -6.171e-04 -1.522e-03        nan -4.394e-06]\n",
      " [-1.200e-03        nan  1.941e-04 -6.572e-04        nan  6.502e-06]\n",
      " [-2.730e-03        nan -6.616e-04 -2.210e-05        nan  3.108e-06]\n",
      " [ 3.655e-03        nan -2.433e-04  4.336e-04        nan -1.834e-05]]\n"
     ]
    }
   ],
   "source": [
    "print(pData2[:,:6])"
   ]
  },
  {
   "cell_type": "markdown",
   "metadata": {},
   "source": [
    "# 4. Dipole"
   ]
  },
  {
   "cell_type": "code",
   "execution_count": 14,
   "metadata": {
    "scrolled": false
   },
   "outputs": [
    {
     "data": {
      "text/plain": [
       "\n",
       "                 n_sckick: 10 [1]\n",
       "                    n_map: 20 [1]\n",
       "            bending_angle: 1.047197551 [rad]\n",
       "                       k1: 0.0\n",
       "                  file_id: 350\n",
       "              pipe_radius: 0.058 [m]\n",
       "           entrance_angle: 0.0 [rad]\n",
       "               exit_angle: 0.0 [rad]\n",
       "       entrance_curvature: 0.0 [rad]\n",
       "           exit_curvature: 0.0 [rad]\n",
       " fringe_field_integration: 0.5 [1]\n",
       "                     type: 'dipole'\n",
       "                   length: 0.7330382858 [m]"
      ]
     },
     "execution_count": 14,
     "metadata": {},
     "output_type": "execute_result"
    }
   ],
   "source": [
    "for i in range(len(lattice0)):\n",
    "    if lattice0[i].type == 'dipole':\n",
    "        break\n",
    "lattice0[i]"
   ]
  },
  {
   "cell_type": "markdown",
   "metadata": {},
   "source": [
    "### without fringe field"
   ]
  },
  {
   "cell_type": "markdown",
   "metadata": {},
   "source": [
    "##### negative length "
   ]
  },
  {
   "cell_type": "code",
   "execution_count": 15,
   "metadata": {},
   "outputs": [
    {
     "data": {
      "text/plain": [
       "0"
      ]
     },
     "execution_count": 15,
     "metadata": {},
     "output_type": "execute_result"
    }
   ],
   "source": [
    "elemF = copy(lattice0[i])\n",
    "elemF.fringe_field_integration = 0.0\n",
    "\n",
    "elemB = copy(elemF)\n",
    "elemB.length = -elemF.length\n",
    "\n",
    "lattice[2] = elemF\n",
    "lattice[4] = elemB\n",
    "\n",
    "impactIO.writeInputFile(beam,lattice);\n",
    "impactIO.run()"
   ]
  },
  {
   "cell_type": "code",
   "execution_count": 16,
   "metadata": {
    "scrolled": true
   },
   "outputs": [
    {
     "name": "stdout",
     "output_type": "stream",
     "text": [
      "[[-1.246e-12  3.084e-12  0.000e+00  0.000e+00  9.963e-01  0.000e+00]\n",
      " [ 3.457e-13 -8.553e-13  0.000e+00  0.000e+00 -9.552e-01  0.000e+00]\n",
      " [-1.419e-12  3.511e-12  0.000e+00  0.000e+00  1.091e+00  0.000e+00]\n",
      " [ 7.616e-13 -1.884e-12  0.000e+00  0.000e+00 -1.217e+00  0.000e+00]\n",
      " [ 6.160e-13 -1.524e-12  2.168e-19  0.000e+00  2.286e+00  0.000e+00]\n",
      " [-9.115e-13  2.255e-12  1.626e-19  0.000e+00 -6.516e-02  0.000e+00]\n",
      " [-4.357e-13  1.078e-12  0.000e+00  0.000e+00  1.313e+00  0.000e+00]\n",
      " [ 2.571e-12 -6.361e-12  0.000e+00  0.000e+00 -2.162e+00  0.000e+00]]\n"
     ]
    }
   ],
   "source": [
    "pData0 = impactIO.readParticleData(1001,ke,mass,freq)\n",
    "pData1 = impactIO.readParticleData(1002,ke,mass,freq)\n",
    "pData2 = impactIO.readParticleData(1003,ke,mass,freq)\n",
    "print(pData0[:,:6]-pData2[:,:6])"
   ]
  },
  {
   "cell_type": "markdown",
   "metadata": {},
   "source": [
    "### negative length and bending angle"
   ]
  },
  {
   "cell_type": "code",
   "execution_count": 17,
   "metadata": {},
   "outputs": [
    {
     "data": {
      "text/plain": [
       "0"
      ]
     },
     "execution_count": 17,
     "metadata": {},
     "output_type": "execute_result"
    }
   ],
   "source": [
    "elemB.bending_angle = -elemF.bending_angle\n",
    "impactIO.writeInputFile(beam,lattice);\n",
    "impactIO.run()"
   ]
  },
  {
   "cell_type": "code",
   "execution_count": 18,
   "metadata": {
    "scrolled": true
   },
   "outputs": [
    {
     "name": "stdout",
     "output_type": "stream",
     "text": [
      "[[-1.735e-18  2.602e-18  0.000e+00  0.000e+00  0.000e+00  0.000e+00]\n",
      " [ 0.000e+00 -2.602e-18  0.000e+00  0.000e+00  0.000e+00  0.000e+00]\n",
      " [ 0.000e+00  5.421e-19  0.000e+00  0.000e+00  0.000e+00  0.000e+00]\n",
      " [-2.168e-19 -6.505e-19  0.000e+00  0.000e+00  8.882e-16  0.000e+00]\n",
      " [-4.770e-18  0.000e+00  2.168e-19  0.000e+00  0.000e+00  0.000e+00]\n",
      " [-4.337e-19 -8.674e-19  1.626e-19  0.000e+00  0.000e+00  0.000e+00]\n",
      " [ 1.735e-18  2.602e-18  0.000e+00  0.000e+00  0.000e+00  0.000e+00]\n",
      " [ 2.168e-18 -3.903e-18  0.000e+00  0.000e+00  0.000e+00  0.000e+00]]\n"
     ]
    }
   ],
   "source": [
    "pData0 = impactIO.readParticleData(1001,ke,mass,freq)\n",
    "pData1 = impactIO.readParticleData(1002,ke,mass,freq)\n",
    "pData2 = impactIO.readParticleData(1003,ke,mass,freq)\n",
    "print(pData0[:,:6]-pData2[:,:6])"
   ]
  },
  {
   "cell_type": "markdown",
   "metadata": {},
   "source": [
    "### with fringe field"
   ]
  },
  {
   "cell_type": "code",
   "execution_count": 19,
   "metadata": {},
   "outputs": [
    {
     "data": {
      "text/plain": [
       "0"
      ]
     },
     "execution_count": 19,
     "metadata": {},
     "output_type": "execute_result"
    }
   ],
   "source": [
    "elemF = copy(lattice0[i])\n",
    "\n",
    "elemB = copy(elemF)\n",
    "elemB.length = -elemF.length\n",
    "\n",
    "lattice[2] = elemF\n",
    "lattice[4] = elemB\n",
    "\n",
    "impactIO.writeInputFile(beam,lattice);\n",
    "impactIO.run()"
   ]
  },
  {
   "cell_type": "code",
   "execution_count": 20,
   "metadata": {},
   "outputs": [
    {
     "name": "stdout",
     "output_type": "stream",
     "text": [
      "[[-1.246e-12  3.084e-12 -6.929e-05  2.956e-04  9.963e-01  0.000e+00]\n",
      " [ 3.457e-13 -8.553e-13  4.249e-05 -1.555e-04 -9.552e-01  0.000e+00]\n",
      " [-1.419e-12  3.511e-12 -9.707e-05  2.465e-04  1.091e+00  0.000e+00]\n",
      " [ 7.616e-13 -1.884e-12  1.108e-04 -2.878e-04 -1.217e+00  0.000e+00]\n",
      " [ 6.160e-13 -1.524e-12 -1.528e-04  2.725e-04  2.286e+00  0.000e+00]\n",
      " [-9.115e-13  2.255e-12 -2.424e-05  8.645e-06 -6.516e-02  0.000e+00]\n",
      " [-4.357e-13  1.078e-12 -6.137e-05  1.584e-04  1.313e+00  0.000e+00]\n",
      " [ 2.571e-12 -6.361e-12  5.571e-06  2.155e-05 -2.162e+00  0.000e+00]]\n"
     ]
    }
   ],
   "source": [
    "pData0 = impactIO.readParticleData(1001,ke,mass,freq)\n",
    "pData1 = impactIO.readParticleData(1002,ke,mass,freq)\n",
    "pData2 = impactIO.readParticleData(1003,ke,mass,freq)\n",
    "print(pData0[:,:6]-pData2[:,:6])"
   ]
  },
  {
   "cell_type": "markdown",
   "metadata": {},
   "source": [
    "### negative length and bending angle"
   ]
  },
  {
   "cell_type": "code",
   "execution_count": 21,
   "metadata": {},
   "outputs": [
    {
     "data": {
      "text/plain": [
       "0"
      ]
     },
     "execution_count": 21,
     "metadata": {},
     "output_type": "execute_result"
    }
   ],
   "source": [
    "elemB.bending_angle = -elemF.bending_angle\n",
    "impactIO.writeInputFile(beam,lattice);\n",
    "impactIO.run()"
   ]
  },
  {
   "cell_type": "code",
   "execution_count": 22,
   "metadata": {
    "scrolled": true
   },
   "outputs": [
    {
     "name": "stdout",
     "output_type": "stream",
     "text": [
      "[[-1.735e-18  2.602e-18 -6.929e-05  2.956e-04  0.000e+00  0.000e+00]\n",
      " [ 0.000e+00 -2.602e-18  4.249e-05 -1.555e-04  0.000e+00  0.000e+00]\n",
      " [ 0.000e+00  5.421e-19 -9.707e-05  2.465e-04  0.000e+00  0.000e+00]\n",
      " [-2.168e-19 -6.505e-19  1.108e-04 -2.878e-04  8.882e-16  0.000e+00]\n",
      " [-4.770e-18  0.000e+00 -1.528e-04  2.725e-04  0.000e+00  0.000e+00]\n",
      " [-4.337e-19 -8.674e-19 -2.424e-05  8.645e-06  0.000e+00  0.000e+00]\n",
      " [ 1.735e-18  2.602e-18 -6.137e-05  1.584e-04  0.000e+00  0.000e+00]\n",
      " [ 2.168e-18 -3.903e-18  5.571e-06  2.155e-05  0.000e+00  0.000e+00]]\n"
     ]
    }
   ],
   "source": [
    "pData0 = impactIO.readParticleData(1001,ke,mass,freq)\n",
    "pData1 = impactIO.readParticleData(1002,ke,mass,freq)\n",
    "pData2 = impactIO.readParticleData(1003,ke,mass,freq)\n",
    "print(pData0[:,:6]-pData2[:,:6])"
   ]
  },
  {
   "cell_type": "markdown",
   "metadata": {},
   "source": [
    "# 5. Nonlinear Insert"
   ]
  },
  {
   "cell_type": "code",
   "execution_count": 23,
   "metadata": {},
   "outputs": [
    {
     "data": {
      "text/plain": [
       "\n",
       "           n_sckick: 96 [1]\n",
       "              n_map: 5 [1]\n",
       "         strength_t: 0.4\n",
       " transverse_scale_c: 0.01\n",
       "       tune_advance: 0.3034496449165134\n",
       "        pipe_radius: 10.0 [m]\n",
       "               type: 'nonlinear_insert'\n",
       "             length: 1.8 [m]"
      ]
     },
     "execution_count": 23,
     "metadata": {},
     "output_type": "execute_result"
    }
   ],
   "source": [
    "for i in range(len(lattice0)):\n",
    "    if lattice0[i].type == 'nonlinear_insert':\n",
    "        break\n",
    "lattice0[i]"
   ]
  },
  {
   "cell_type": "code",
   "execution_count": 24,
   "metadata": {},
   "outputs": [
    {
     "data": {
      "text/plain": [
       "0"
      ]
     },
     "execution_count": 24,
     "metadata": {},
     "output_type": "execute_result"
    }
   ],
   "source": [
    "elemF = lattice0[i]\n",
    "\n",
    "elemB = copy(elemF)\n",
    "elemB.length =-elemF.length\n",
    "\n",
    "lattice[2] = elemF\n",
    "lattice[4] = elemB\n",
    "\n",
    "impactIO.writeInputFile(beam,lattice);\n",
    "impactIO.run()"
   ]
  },
  {
   "cell_type": "code",
   "execution_count": 25,
   "metadata": {
    "scrolled": true
   },
   "outputs": [
    {
     "name": "stdout",
     "output_type": "stream",
     "text": [
      "[[-1.735e-18  2.602e-18 -6.929e-05  2.956e-04  0.000e+00  0.000e+00]\n",
      " [ 0.000e+00 -2.602e-18  4.249e-05 -1.555e-04  0.000e+00  0.000e+00]\n",
      " [ 0.000e+00  5.421e-19 -9.707e-05  2.465e-04  0.000e+00  0.000e+00]\n",
      " [-2.168e-19 -6.505e-19  1.108e-04 -2.878e-04  8.882e-16  0.000e+00]\n",
      " [-4.770e-18  0.000e+00 -1.528e-04  2.725e-04  0.000e+00  0.000e+00]\n",
      " [-4.337e-19 -8.674e-19 -2.424e-05  8.645e-06  0.000e+00  0.000e+00]\n",
      " [ 1.735e-18  2.602e-18 -6.137e-05  1.584e-04  0.000e+00  0.000e+00]\n",
      " [ 2.168e-18 -3.903e-18  5.571e-06  2.155e-05  0.000e+00  0.000e+00]]\n"
     ]
    }
   ],
   "source": [
    "pData0 = impactIO.readParticleData(1001,ke,mass,freq)\n",
    "pData1 = impactIO.readParticleData(1002,ke,mass,freq)\n",
    "pData2 = impactIO.readParticleData(1003,ke,mass,freq)\n",
    "print(pData0[:,:6]-pData2[:,:6])"
   ]
  }
 ],
 "metadata": {
  "kernelspec": {
   "display_name": "Python 3",
   "language": "python",
   "name": "python3"
  },
  "language_info": {
   "codemirror_mode": {
    "name": "ipython",
    "version": 3
   },
   "file_extension": ".py",
   "mimetype": "text/x-python",
   "name": "python",
   "nbconvert_exporter": "python",
   "pygments_lexer": "ipython3",
   "version": "3.6.5"
  }
 },
 "nbformat": 4,
 "nbformat_minor": 2
}
